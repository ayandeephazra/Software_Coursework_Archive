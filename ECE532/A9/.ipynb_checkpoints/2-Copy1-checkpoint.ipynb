{
 "cells": [
  {
   "cell_type": "markdown",
   "id": "fabulous-prisoner",
   "metadata": {},
   "source": [
    "# 2a)"
   ]
  },
  {
   "cell_type": "code",
   "execution_count": 1,
   "id": "bound-directory",
   "metadata": {},
   "outputs": [],
   "source": [
    "import numpy as np\n",
    "import matplotlib.pyplot as plt\n",
    "from scipy.io import loadmat\n",
    "dataset = loadmat('face_emotion_data.mat')\n",
    "\n",
    "X, y = dataset['X'], dataset['y']\n",
    "n, p = np.shape(X)\n",
    "\n",
    "y[y==-1] = 0  # use 0/1 for labels instead of -1/+1\n",
    "X = np.hstack((np.ones((n,1)), X))  # append a column of ones\n",
    "\n",
    "def kernel(X, sigma):\n",
    "    n, p = np.shape(X)\n",
    "    \n",
    "    distsquared = np.zeros((n,n ), dtype=float)\n",
    "    \n",
    "    for i in range(n):\n",
    "        for j in range(n):\n",
    "            dist = np.linalg.norm(X[i,:]-X[j,:])\n",
    "            distsquared[i,j]=dist*dist\n",
    "            \n",
    "    K = np.exp(-1*distsquared/(2*sigma**2))\n",
    "    return K\n",
    "    \n",
    "def train(X, y, lam, sigma):\n",
    "            \n",
    "    K = kernel(X,sigma)\n",
    "\n",
    "    return np.linalg.inv(K+lam*np.identity(len(K)))@y"
   ]
  },
  {
   "cell_type": "markdown",
   "id": "billion-sarah",
   "metadata": {},
   "source": [
    "sigmas = np.linspace(0, 50, 100)\n",
    "print(sigmas)\n",
    "errors = []\n",
    "\n",
    "for sigma in sigmas:\n",
    "    train_ind = np.arange(128)\n",
    "    alpha = train(X, y, 0.5, sigma)\n",
    "    errors.append(error)\n",
    "    print(error)\n",
    "    \n",
    "    \n",
    "plt.figure()\n",
    "plt.plot(sigmas, errors)"
   ]
  },
  {
   "cell_type": "code",
   "execution_count": 2,
   "id": "atmospheric-freight",
   "metadata": {},
   "outputs": [],
   "source": [
    "def test(X, y, Xv, yv, alpha):\n",
    "    numAlpha = len(alpha)\n",
    "            \n",
    "    K = kernel(X,sigma)\n",
    "    \n",
    "    y_hat = K@alpha\n",
    "    y_hat_thresh = np.sign(y_hat)\n",
    "    y_hat_thresh[y_hat_thresh>0.5] = 1\n",
    "    y_hat_thresh[y_hat_thresh<=0.5] = 0\n",
    "    \n",
    "    error = np.sum(np.abs(y_hat_thresh-yv))\n",
    "    \n",
    "    return error/n"
   ]
  },
  {
   "cell_type": "markdown",
   "id": "smoking-elite",
   "metadata": {},
   "source": [
    "Some functions are unused."
   ]
  },
  {
   "cell_type": "markdown",
   "id": "subsequent-portsmouth",
   "metadata": {},
   "source": [
    "# 2b)"
   ]
  },
  {
   "cell_type": "code",
   "execution_count": 3,
   "id": "reverse-houston",
   "metadata": {
    "scrolled": false
   },
   "outputs": [
    {
     "data": {
      "text/plain": [
       "[<matplotlib.lines.Line2D at 0x1a82e34aac0>]"
      ]
     },
     "execution_count": 3,
     "metadata": {},
     "output_type": "execute_result"
    },
    {
     "data": {
      "image/png": "[encoded data removed]",
      "text/plain": [
       "<Figure size 432x288 with 1 Axes>"
      ]
     },
     "metadata": {
      "needs_background": "light"
     },
     "output_type": "display_data"
    },
    {
     "data": {
      "image/png": "[encoded data removed]",
      "text/plain": [
       "<Figure size 432x288 with 1 Axes>"
      ]
     },
     "metadata": {
      "needs_background": "light"
     },
     "output_type": "display_data"
    }
   ],
   "source": [
    "sigmas = np.linspace(0.1, 50, 100)\n",
    "\n",
    "errors = []\n",
    "accuracies = []\n",
    "lamda = 0.5\n",
    "for sigma in sigmas:\n",
    "    K = kernel(X,sigma)\n",
    "    alpha = train(X,y, lamda, sigma)\n",
    "    Yhat = abs(np.round(K@alpha))\n",
    "    \n",
    "    correct = [1 if m[0]==m[1] else 0 for m in np.hstack((Yhat, y))]\n",
    "    \n",
    "    accuracy = sum(correct)/len(correct)\n",
    "    \n",
    "    accuracies.append(accuracy)\n",
    "    errors.append(1-accuracy)\n",
    "        \n",
    "plt.figure()\n",
    "plt.xlabel(\"Sigma values\")\n",
    "plt.ylabel(\"Accuracy as a fraction\")\n",
    "plt.plot(sigmas, accuracies)\n",
    "\n",
    "plt.figure()\n",
    "plt.xlabel(\"Sigma values\")\n",
    "plt.ylabel(\"Error rate\")\n",
    "plt.plot(sigmas, errors)"
   ]
  },
  {
   "cell_type": "markdown",
   "id": "pediatric-latex",
   "metadata": {},
   "source": [
    "No, the error starts low but keeps picking up with the rise in the value of the sigma. "
   ]
  },
  {
   "cell_type": "code",
   "execution_count": 4,
   "id": "durable-stand",
   "metadata": {
    "scrolled": false
   },
   "outputs": [
    {
     "name": "stdout",
     "output_type": "stream",
     "text": [
      " run  0 error rate:  0.16004672897196262  and accuracy rate:  0.8399532710280374\n",
      " run  1 error rate:  0.21162280701754385  and accuracy rate:  0.7883771929824561\n",
      " run  2 error rate:  0.2572314049586777  and accuracy rate:  0.7427685950413223\n",
      " run  3 error rate:  0.2978515625  and accuracy rate:  0.7021484375\n",
      " run  4 error rate:  0.33425925925925926  and accuracy rate:  0.6657407407407407\n",
      " run  5 error rate:  0.3670774647887324  and accuracy rate:  0.6329225352112676\n",
      " run  6 error rate:  0.39681208053691275  and accuracy rate:  0.6031879194630873\n",
      " run  7 error rate:  0.4238782051282051  and accuracy rate:  0.5761217948717949\n",
      " run  8 error rate:  0.4486196319018405  and accuracy rate:  0.5513803680981595\n",
      " run  9 error rate:  0.4713235294117647  and accuracy rate:  0.5286764705882353\n",
      " run  10 error rate:  0.4922316384180791  and accuracy rate:  0.5077683615819208\n",
      " run  11 error rate:  0.5115489130434783  and accuracy rate:  0.48845108695652173\n",
      " run  12 error rate:  0.5294502617801047  and accuracy rate:  0.4705497382198953\n",
      " run  13 error rate:  0.5460858585858586  and accuracy rate:  0.45391414141414144\n",
      " run  14 error rate:  0.5615853658536586  and accuracy rate:  0.4384146341463414\n",
      " run  15 error rate:  0.5760613207547169  and accuracy rate:  0.42393867924528306\n",
      " run  16 error rate:  0.5896118721461188  and accuracy rate:  0.41038812785388123\n",
      " run  17 error rate:  0.6023230088495575  and accuracy rate:  0.3976769911504425\n",
      " run  18 error rate:  0.6142703862660944  and accuracy rate:  0.3857296137339056\n",
      " run  19 error rate:  0.6255208333333333  and accuracy rate:  0.3744791666666667\n",
      " run  20 error rate:  0.6361336032388664  and accuracy rate:  0.36386639676113364\n",
      " run  21 error rate:  0.6461614173228346  and accuracy rate:  0.3538385826771654\n",
      " run  22 error rate:  0.6556513409961686  and accuracy rate:  0.3443486590038314\n",
      " run  23 error rate:  0.6646455223880597  and accuracy rate:  0.33535447761194026\n",
      " run  24 error rate:  0.6731818181818182  and accuracy rate:  0.3268181818181818\n",
      " run  25 error rate:  0.6812943262411347  and accuracy rate:  0.31870567375886527\n",
      " run  26 error rate:  0.6890138408304498  and accuracy rate:  0.3109861591695502\n",
      " run  27 error rate:  0.6963682432432432  and accuracy rate:  0.3036317567567568\n",
      " run  28 error rate:  0.7033828382838284  and accuracy rate:  0.2966171617161716\n",
      " run  29 error rate:  0.7100806451612903  and accuracy rate:  0.2899193548387097\n",
      " run  30 error rate:  0.7164826498422713  and accuracy rate:  0.2835173501577287\n",
      " run  31 error rate:  0.722608024691358  and accuracy rate:  0.277391975308642\n",
      " run  32 error rate:  0.7284743202416919  and accuracy rate:  0.2715256797583081\n",
      " run  33 error rate:  0.7340976331360947  and accuracy rate:  0.26590236686390534\n",
      " run  34 error rate:  0.7394927536231884  and accuracy rate:  0.26050724637681155\n",
      " run  35 error rate:  0.7446732954545454  and accuracy rate:  0.2553267045454546\n",
      " run  36 error rate:  0.7496518105849582  and accuracy rate:  0.2503481894150418\n",
      " run  37 error rate:  0.7544398907103825  and accuracy rate:  0.24556010928961747\n",
      " run  38 error rate:  0.7590482573726541  and accuracy rate:  0.24095174262734587\n",
      " run  39 error rate:  0.7634868421052632  and accuracy rate:  0.23651315789473681\n",
      " run  40 error rate:  0.7677648578811369  and accuracy rate:  0.2322351421188631\n",
      " run  41 error rate:  0.7718908629441624  and accuracy rate:  0.22810913705583757\n",
      " run  42 error rate:  0.7758728179551122  and accuracy rate:  0.2241271820448878\n",
      " run  43 error rate:  0.7797181372549019  and accuracy rate:  0.2202818627450981\n",
      " run  44 error rate:  0.783433734939759  and accuracy rate:  0.21656626506024101\n",
      " run  45 error rate:  0.7870260663507109  and accuracy rate:  0.21297393364928907\n",
      " run  46 error rate:  0.7905011655011654  and accuracy rate:  0.20949883449883455\n",
      " run  47 error rate:  0.7938646788990825  and accuracy rate:  0.20613532110091748\n",
      " run  48 error rate:  0.7971218961625283  and accuracy rate:  0.20287810383747173\n",
      " run  49 error rate:  0.8002777777777778  and accuracy rate:  0.19972222222222225\n",
      " run  50 error rate:  0.8033369803063457  and accuracy rate:  0.1966630196936543\n",
      " run  51 error rate:  0.8063038793103449  and accuracy rate:  0.19369612068965514\n",
      " run  52 error rate:  0.8091825902335457  and accuracy rate:  0.19081740976645434\n",
      " run  53 error rate:  0.8119769874476988  and accuracy rate:  0.18802301255230125\n",
      " run  54 error rate:  0.8146907216494845  and accuracy rate:  0.18530927835051547\n",
      " run  55 error rate:  0.8173272357723578  and accuracy rate:  0.18267276422764223\n",
      " run  56 error rate:  0.8198897795591182  and accuracy rate:  0.18011022044088176\n",
      " run  57 error rate:  0.8223814229249012  and accuracy rate:  0.17761857707509876\n",
      " run  58 error rate:  0.8248050682261209  and accuracy rate:  0.17519493177387913\n",
      " run  59 error rate:  0.8271634615384615  and accuracy rate:  0.17283653846153846\n",
      " run  60 error rate:  0.8294592030360531  and accuracy rate:  0.17054079696394686\n",
      " run  61 error rate:  0.8316947565543071  and accuracy rate:  0.16830524344569286\n",
      " run  62 error rate:  0.8338724584103512  and accuracy rate:  0.16612754158964882\n",
      " run  63 error rate:  0.8359945255474452  and accuracy rate:  0.16400547445255476\n",
      " run  64 error rate:  0.8380630630630631  and accuracy rate:  0.1619369369369369\n",
      " run  65 error rate:  0.8400800711743772  and accuracy rate:  0.15991992882562278\n",
      " run  66 error rate:  0.8420474516695958  and accuracy rate:  0.15795254833040417\n",
      " run  67 error rate:  0.8439670138888888  and accuracy rate:  0.15603298611111116\n",
      " run  68 error rate:  0.8458404802744426  and accuracy rate:  0.15415951972555741\n",
      " run  69 error rate:  0.8476694915254237  and accuracy rate:  0.1523305084745763\n",
      " run  70 error rate:  0.8494556113902848  and accuracy rate:  0.1505443886097152\n",
      " run  71 error rate:  0.8512003311258278  and accuracy rate:  0.14879966887417218\n",
      " run  72 error rate:  0.8529050736497545  and accuracy rate:  0.14709492635024546\n",
      " run  73 error rate:  0.8545711974110033  and accuracy rate:  0.1454288025889967\n",
      " run  74 error rate:  0.8562  and accuracy rate:  0.14380000000000004\n",
      " run  75 error rate:  0.8577927215189873  and accuracy rate:  0.14220727848101267\n",
      " run  76 error rate:  0.8593505477308294  and accuracy rate:  0.14064945226917058\n",
      " run  77 error rate:  0.860874613003096  and accuracy rate:  0.13912538699690402\n",
      " run  78 error rate:  0.8623660030627871  and accuracy rate:  0.1376339969372129\n",
      " run  79 error rate:  0.8638257575757575  and accuracy rate:  0.13617424242424248\n",
      " run  80 error rate:  0.8652548725637181  and accuracy rate:  0.13474512743628186\n",
      " run  81 error rate:  0.8666543026706232  and accuracy rate:  0.13334569732937684\n",
      " run  82 error rate:  0.8680249632892805  and accuracy rate:  0.13197503671071953\n",
      " run  83 error rate:  0.8693677325581395  and accuracy rate:  0.13063226744186052\n",
      " run  84 error rate:  0.87068345323741  and accuracy rate:  0.12931654676258997\n",
      " run  85 error rate:  0.8719729344729344  and accuracy rate:  0.12802706552706555\n",
      " run  86 error rate:  0.8732369534555712  and accuracy rate:  0.12676304654442883\n",
      " run  87 error rate:  0.8744762569832403  and accuracy rate:  0.12552374301675973\n",
      " run  88 error rate:  0.8756915629322268  and accuracy rate:  0.12430843706777317\n",
      " run  89 error rate:  0.8768835616438356  and accuracy rate:  0.12311643835616437\n",
      " run  90 error rate:  0.8780529172320217  and accuracy rate:  0.12194708276797828\n",
      " run  91 error rate:  0.8792002688172043  and accuracy rate:  0.12079973118279574\n",
      " run  92 error rate:  0.8803262316910786  and accuracy rate:  0.1196737683089214\n",
      " run  93 error rate:  0.8814313984168866  and accuracy rate:  0.11856860158311344\n",
      " run  94 error rate:  0.882516339869281  and accuracy rate:  0.11748366013071898\n",
      " run  95 error rate:  0.8835816062176166  and accuracy rate:  0.11641839378238339\n",
      " run  96 error rate:  0.8846277278562259  and accuracy rate:  0.1153722721437741\n",
      " run  97 error rate:  0.8856552162849872  and accuracy rate:  0.11434478371501278\n",
      " run  98 error rate:  0.8866645649432535  and accuracy rate:  0.11333543505674648\n",
      " run  99 error rate:  0.88765625  and accuracy rate:  0.11234374999999996\n",
      "mean error rate over 100 iterations 0.88765625\n"
     ]
    }
   ],
   "source": [
    "L = 50\n",
    "lamda = 0.5\n",
    "sigma = 0.1\n",
    "err_total = []\n",
    "\n",
    "for iteration in range(L):\n",
    "    err_somerun = []\n",
    "    err_somerun_Train = []\n",
    "    err_somerun_Test = []\n",
    "    for i in range(7):\n",
    "        start = i*16\n",
    "        end = (i+1)*16\n",
    "        \n",
    "        X_train = np.vstack((X[0:start, :], X[end:-1, :]))\n",
    "        y_train = np.vstack((y[0:start, :], y[end:-1, :]))\n",
    "        \n",
    "        X_test = X[start:end, :]\n",
    "        y_test = y[start:end, :]\n",
    "        \n",
    "        alpha1 = train(X_train, y_train, lamda, sigma)\n",
    "        alpha2 = train(X_test, y_test, lamda, sigma)\n",
    "\n",
    "        K = kernel(X,sigma)\n",
    "        \n",
    "        Yhat1 = abs(np.round(K@np.vstack((alpha1,np.ones((17, alpha1.shape[1]))))))\n",
    "\n",
    "        correct_vec = [1 if m[0]==m[1] else 0 for m in np.hstack((X.T@Yhat1, X_test.T@y_test))]\n",
    "        accuracy = sum(correct_vec)/len(correct_vec)\n",
    "\n",
    "        accuracies.append(accuracy)\n",
    "        errors.append(1-accuracy)\n",
    "\n",
    "        \n",
    "        err_somerun.append(errors)\n",
    "\n",
    "    print(\" run \", iteration, \"error rate: \", np.mean(err_somerun), \" and accuracy rate: \", 1-np.mean(err_somerun))\n",
    "    err_total.append(err_somerun)\n",
    "    \n",
    "print(\"mean error rate over 100 iterations\", np.mean(err_total))"
   ]
  },
  {
   "cell_type": "code",
   "execution_count": null,
   "id": "violent-attitude",
   "metadata": {},
   "outputs": [],
   "source": []
  }
 ],
 "metadata": {
  "kernelspec": {
   "display_name": "Python 3",
   "language": "python",
   "name": "python3"
  },
  "language_info": {
   "codemirror_mode": {
    "name": "ipython",
    "version": 3
   },
   "file_extension": ".py",
   "mimetype": "text/x-python",
   "name": "python",
   "nbconvert_exporter": "python",
   "pygments_lexer": "ipython3",
   "version": "3.8.3"
  }
 },
 "nbformat": 4,
 "nbformat_minor": 5
}
