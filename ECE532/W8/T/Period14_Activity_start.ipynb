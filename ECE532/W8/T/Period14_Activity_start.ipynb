{
 "cells": [
  {
   "cell_type": "code",
   "execution_count": 1,
   "metadata": {},
   "outputs": [],
   "source": [
    "import numpy as np\n",
    "import matplotlib.pyplot as plt "
   ]
  },
  {
   "cell_type": "markdown",
   "metadata": {},
   "source": [
    "#### 1a) "
   ]
  },
  {
   "cell_type": "code",
   "execution_count": 2,
   "metadata": {},
   "outputs": [
    {
     "name": "stdout",
     "output_type": "stream",
     "text": [
      "Unweighted adjacency matrix\n",
      "[[0 1 0 0 0 0 0 1]\n",
      " [1 0 1 0 0 0 0 0]\n",
      " [1 1 0 1 1 0 0 0]\n",
      " [0 0 1 0 1 0 0 0]\n",
      " [0 0 0 1 0 1 0 0]\n",
      " [0 0 0 0 1 0 1 0]\n",
      " [0 0 0 0 0 1 0 1]\n",
      " [1 0 0 0 0 0 1 0]]\n",
      " \n",
      "0.33\n"
     ]
    }
   ],
   "source": [
    "# Circle topology\n",
    "# Unweighted adjacency matrix\n",
    "\n",
    "# Option 1: Manually enter the entries\n",
    "Atilde = np.array(\n",
    "         [[0,1,0,0,0,0,0,1],\n",
    "          [1,0,1,0,0,0,0,0],\n",
    "          [1,1,0,1,1,0,0,0],\n",
    "          [0,0,1,0,1,0,0,0],\n",
    "          [0,0,0,1,0,1,0,0],\n",
    "          [0,0,0,0,1,0,1,0],\n",
    "          [0,0,0,0,0,1,0,1],\n",
    "          [1,0,0,0,0,0,1,0]])\n",
    "\n",
    "# Option 2: or you can exploit the patterns\n",
    "# Atilde = np.zeros((8,8))\n",
    "# for i in range(8): # \n",
    "#     Atilde[i,(i+1)%8] = 1\n",
    "#     Atilde[i,(i-1)%8] = 1\n",
    "# Atilde[2,0] = 1\n",
    "# Atilde[2,4] = 1\n",
    "\n",
    "print('Unweighted adjacency matrix')\n",
    "print(Atilde)\n",
    "print(' ')\n",
    "print(round(1/3,2))"
   ]
  },
  {
   "cell_type": "markdown",
   "metadata": {},
   "source": [
    "#### 1b)"
   ]
  },
  {
   "cell_type": "code",
   "execution_count": 3,
   "metadata": {},
   "outputs": [
    {
     "name": "stdout",
     "output_type": "stream",
     "text": [
      "Weighted adjacency matrix\n",
      "[[0.         0.5        0.         0.         0.         0.\n",
      "  0.         0.5       ]\n",
      " [0.33333333 0.         0.5        0.         0.         0.\n",
      "  0.         0.        ]\n",
      " [0.33333333 0.5        0.         0.5        0.33333333 0.\n",
      "  0.         0.        ]\n",
      " [0.         0.         0.5        0.         0.33333333 0.\n",
      "  0.         0.        ]\n",
      " [0.         0.         0.         0.5        0.         0.5\n",
      "  0.         0.        ]\n",
      " [0.         0.         0.         0.         0.33333333 0.\n",
      "  0.5        0.        ]\n",
      " [0.         0.         0.         0.         0.         0.5\n",
      "  0.         0.5       ]\n",
      " [0.33333333 0.         0.         0.         0.         0.\n",
      "  0.5        0.        ]]\n"
     ]
    }
   ],
   "source": [
    "# Find weighted adjacency matrix\n",
    "# option 1: normalize columns with a for loop\n",
    "A = np.zeros((8,8), dtype=float)\n",
    "for k in range(8):\n",
    "    norm = np.sum(Atilde[:,k])\n",
    "    A[:,k] = (Atilde[:,k])/norm\n",
    "    \n",
    "# option 2: normalize using numpy.sum() and broadcasting, in a single line\n",
    "# A = ???\n",
    "\n",
    "print('Weighted adjacency matrix')\n",
    "print(A)"
   ]
  },
  {
   "cell_type": "markdown",
   "metadata": {},
   "source": [
    "#### 1c) and 1d)"
   ]
  },
  {
   "cell_type": "code",
   "execution_count": 4,
   "metadata": {},
   "outputs": [
    {
     "name": "stdout",
     "output_type": "stream",
     "text": [
      "b0 =  [[0.125]\n",
      " [0.125]\n",
      " [0.125]\n",
      " [0.125]\n",
      " [0.125]\n",
      " [0.125]\n",
      " [0.125]\n",
      " [0.125]]\n",
      " \n",
      "b1 =  [[0.125     ]\n",
      " [0.10416667]\n",
      " [0.20833333]\n",
      " [0.10416667]\n",
      " [0.125     ]\n",
      " [0.10416667]\n",
      " [0.125     ]\n",
      " [0.10416667]]\n",
      " \n",
      "1000 iterations\n",
      "b =  [[0.11538462]\n",
      " [0.15384615]\n",
      " [0.23076923]\n",
      " [0.15384615]\n",
      " [0.11538462]\n",
      " [0.07692308]\n",
      " [0.07692308]\n",
      " [0.07692308]]\n"
     ]
    }
   ],
   "source": [
    "# Power method\n",
    "\n",
    "b0 = 0.125*np.ones((8,1))\n",
    "print('b0 = ', b0)\n",
    "print(' ')\n",
    "\n",
    "b1 = A@b0\n",
    "print('b1 = ', b1)\n",
    "print(' ')\n",
    "\n",
    "b = b0.copy()\n",
    "for k in range(1000):\n",
    "    b = A@b\n",
    "    \n",
    "print('1000 iterations')\n",
    "print('b = ',b)\n"
   ]
  },
  {
   "cell_type": "markdown",
   "metadata": {},
   "source": [
    "#### 1e) Explination goes here."
   ]
  },
  {
   "cell_type": "markdown",
   "metadata": {},
   "source": [
    "The third node has more incoming nodes than any other, so itseems to be the most important.  Note that the PageRank vector shows the thirdnode to be the most regularly visited node."
   ]
  },
  {
   "cell_type": "markdown",
   "metadata": {},
   "source": [
    "#### 2a)"
   ]
  },
  {
   "cell_type": "code",
   "execution_count": 5,
   "metadata": {},
   "outputs": [
    {
     "name": "stdout",
     "output_type": "stream",
     "text": [
      "Unweighted adjacency matrix\n",
      "[[0 0 0 0 0 0 0 0 1]\n",
      " [1 0 0 0 0 0 0 0 1]\n",
      " [0 0 0 0 0 0 0 0 1]\n",
      " [0 0 0 0 0 0 0 0 1]\n",
      " [0 0 0 0 0 0 0 0 1]\n",
      " [0 0 0 0 0 0 0 0 1]\n",
      " [0 0 0 0 0 0 0 0 1]\n",
      " [0 0 0 0 0 0 0 0 1]\n",
      " [1 1 1 1 1 1 1 1 0]]\n",
      " \n"
     ]
    }
   ],
   "source": [
    "# Hub topology\n",
    "\n",
    "Atildehub = np.array([[0,  0,   0,   0,   0,   0,   0,   0,   1],[1,   0,   0,   0,   0,   0,   0,   0,   1],[0,   0,   0,   0,   0,   0,   0,   0,   1],[0,   0,   0,   0,   0,   0,   0,   0 ,  1],[0,   0,   0,   0,   0,   0,   0,   0,   1],[0,   0,   0,   0,   0,   0,   0,   0,   1],[0,   0,   0,   0,   0 ,  0 ,  0 ,  0 ,  1],[0,   0,   0,   0,   0,   0,   0,   0,   1],[1,   1,   1,   1,   1,   1,   1,   1,   0]])\n",
    "\n",
    "print('Unweighted adjacency matrix')\n",
    "print(Atildehub)\n",
    "print(' ')"
   ]
  },
  {
   "cell_type": "markdown",
   "metadata": {},
   "source": [
    "#### 2b)"
   ]
  },
  {
   "cell_type": "code",
   "execution_count": 6,
   "metadata": {},
   "outputs": [
    {
     "name": "stdout",
     "output_type": "stream",
     "text": [
      "Weighted adjacency matrix\n",
      "[[0.    0.    0.    0.    0.    0.    0.    0.    0.125]\n",
      " [0.5   0.    0.    0.    0.    0.    0.    0.    0.125]\n",
      " [0.    0.    0.    0.    0.    0.    0.    0.    0.125]\n",
      " [0.    0.    0.    0.    0.    0.    0.    0.    0.125]\n",
      " [0.    0.    0.    0.    0.    0.    0.    0.    0.125]\n",
      " [0.    0.    0.    0.    0.    0.    0.    0.    0.125]\n",
      " [0.    0.    0.    0.    0.    0.    0.    0.    0.125]\n",
      " [0.    0.    0.    0.    0.    0.    0.    0.    0.125]\n",
      " [0.5   1.    1.    1.    1.    1.    1.    1.    0.   ]]\n"
     ]
    }
   ],
   "source": [
    "\n",
    "# find weighted adjacency matrix\n",
    "Ahub = np.zeros((9,9), dtype=float)\n",
    "for k in range(9):\n",
    "    norm = np.sum(Atildehub[:,k])\n",
    "    Ahub[:,k] = (Atildehub[:,k])/norm\n",
    "\n",
    "\n",
    "print('Weighted adjacency matrix')\n",
    "print(Ahub)"
   ]
  },
  {
   "cell_type": "markdown",
   "metadata": {},
   "source": [
    "#### 2c) and 2d)"
   ]
  },
  {
   "cell_type": "code",
   "execution_count": 7,
   "metadata": {},
   "outputs": [
    {
     "name": "stdout",
     "output_type": "stream",
     "text": [
      "b0 =  [[0.11111111]\n",
      " [0.11111111]\n",
      " [0.11111111]\n",
      " [0.11111111]\n",
      " [0.11111111]\n",
      " [0.11111111]\n",
      " [0.11111111]\n",
      " [0.11111111]\n",
      " [0.11111111]]\n",
      " \n",
      "bhub1 =  [[0.01388889]\n",
      " [0.06944444]\n",
      " [0.01388889]\n",
      " [0.01388889]\n",
      " [0.01388889]\n",
      " [0.01388889]\n",
      " [0.01388889]\n",
      " [0.01388889]\n",
      " [0.83333333]]\n",
      " \n",
      "1000 iterations\n",
      "bhub =  [[0.06060606]\n",
      " [0.09090909]\n",
      " [0.06060606]\n",
      " [0.06060606]\n",
      " [0.06060606]\n",
      " [0.06060606]\n",
      " [0.06060606]\n",
      " [0.06060606]\n",
      " [0.48484848]]\n",
      " \n",
      "100 iterations\n",
      "bhubr =  [[0.06065482]\n",
      " [0.09093172]\n",
      " [0.06065482]\n",
      " [0.06065482]\n",
      " [0.06065482]\n",
      " [0.06065482]\n",
      " [0.06065482]\n",
      " [0.06065482]\n",
      " [0.48448454]]\n"
     ]
    }
   ],
   "source": [
    "b0 = (1/9)*np.ones((9,1))\n",
    "print('b0 = ', b0)\n",
    "print(' ')\n",
    "\n",
    "bhub1 = Ahub@b0\n",
    "print('bhub1 = ', bhub1)\n",
    "print(' ')\n",
    "\n",
    "bhub = b0.copy()\n",
    "for k in range(1000):\n",
    "    bhub = Ahub@bhub\n",
    "    \n",
    "print('1000 iterations')\n",
    "print('bhub = ', bhub)\n",
    "print(' ')\n",
    "\n",
    "bhubr = b0.copy()\n",
    "for k in range(100):\n",
    "    bhubr = Ahub@bhubr\n",
    "    \n",
    "print('100 iterations')\n",
    "print('bhubr = ',bhubr)"
   ]
  },
  {
   "cell_type": "markdown",
   "metadata": {},
   "source": [
    "#### Complete 2e and 2f below."
   ]
  },
  {
   "cell_type": "markdown",
   "metadata": {},
   "source": [
    "2e) Yes, some nodes are more important than other nodes. Node 9 is most important in 100 and 1000 iterations."
   ]
  },
  {
   "cell_type": "code",
   "execution_count": 8,
   "metadata": {},
   "outputs": [
    {
     "name": "stdout",
     "output_type": "stream",
     "text": [
      "2f:\n",
      "85 iterations\n",
      "bhube =  [[0.0604681 ]\n",
      " [0.09084507]\n",
      " [0.0604681 ]\n",
      " [0.0604681 ]\n",
      " [0.0604681 ]\n",
      " [0.0604681 ]\n",
      " [0.0604681 ]\n",
      " [0.0604681 ]\n",
      " [0.4858782 ]]\n"
     ]
    }
   ],
   "source": [
    "# 2f\n",
    "\n",
    "bhube = b0.copy()\n",
    "\n",
    "for k in range(85):\n",
    "    bhube = Ahub@bhube\n",
    "    \n",
    "print('2f:')\n",
    "print('85 iterations')\n",
    "print('bhube = ', bhube)"
   ]
  },
  {
   "cell_type": "markdown",
   "metadata": {},
   "source": [
    "# 3"
   ]
  },
  {
   "cell_type": "markdown",
   "metadata": {},
   "source": [
    "The signs of the singular vectors are not unique.  If you change the sign of u1 to -u1, you can also change the sign of v1 and the product u1@v1.T is unchanged. Thus you get the same results."
   ]
  },
  {
   "cell_type": "code",
   "execution_count": null,
   "metadata": {},
   "outputs": [],
   "source": []
  }
 ],
 "metadata": {
  "kernelspec": {
   "display_name": "Python 3",
   "language": "python",
   "name": "python3"
  },
  "language_info": {
   "codemirror_mode": {
    "name": "ipython",
    "version": 3
   },
   "file_extension": ".py",
   "mimetype": "text/x-python",
   "name": "python",
   "nbconvert_exporter": "python",
   "pygments_lexer": "ipython3",
   "version": "3.8.3"
  }
 },
 "nbformat": 4,
 "nbformat_minor": 2
}
