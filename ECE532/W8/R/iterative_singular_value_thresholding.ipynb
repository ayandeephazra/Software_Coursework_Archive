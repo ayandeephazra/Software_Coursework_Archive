{
 "cells": [
  {
   "cell_type": "code",
   "execution_count": 1,
   "metadata": {},
   "outputs": [],
   "source": [
    "import numpy as np\n",
    "from scipy.io import loadmat"
   ]
  },
  {
   "cell_type": "markdown",
   "metadata": {},
   "source": [
    "---\n",
    "# Question 2\n",
    "---"
   ]
  },
  {
   "cell_type": "code",
   "execution_count": 2,
   "metadata": {},
   "outputs": [],
   "source": [
    "Xtrue = loadmat(\"incomplete.mat\")[\"Xtrue\"]\n",
    "Y1 = loadmat(\"incomplete.mat\")[\"Y1\"]\n",
    "Y2 = loadmat(\"incomplete.mat\")[\"Y2\"]\n",
    "Y3 = loadmat(\"incomplete.mat\")[\"Y3\"]"
   ]
  },
  {
   "cell_type": "code",
   "execution_count": 3,
   "metadata": {},
   "outputs": [],
   "source": [
    "### DO NOT change\n",
    "def ItSingValThresh(Y, r):\n",
    "    \"\"\"\n",
    "    Iterative Singular Value Thresholding function for Matrix Completion\n",
    "    \"\"\"\n",
    "    tol = 10**(-3)  # difference between iterates at termination\n",
    "    max_its = 100;\n",
    "    n,p = Y.shape \n",
    "    X = np.array(Y) #make a copy so operations do not mutate the original\n",
    "    X[np.isnan(X)] = 0 # Fill in missing entries with zeros\n",
    "\n",
    "    err = 10**6 \n",
    "    itt = 0\n",
    "    \n",
    "    while err > tol and itt < max_its:\n",
    "        U,s,VT = np.linalg.svd(X, full_matrices=False)\n",
    "        V, S = VT.T, np.diag(s)\n",
    "        Xnew = U[:,:r] @ S[:r,:r] @ V[:,:r].T\n",
    "        for i in range(n):\n",
    "            for j in range(p):\n",
    "                if ~np.isnan(Y[i,j]):  #replace Xnew with known entries\n",
    "                    Xnew[i,j] = Y[i,j]\n",
    "        err = np.linalg.norm(X-Xnew,'fro') \n",
    "        X = Xnew\n",
    "        itt += 1\n",
    "    return X"
   ]
  },
  {
   "cell_type": "code",
   "execution_count": 4,
   "metadata": {},
   "outputs": [
    {
     "name": "stdout",
     "output_type": "stream",
     "text": [
      "\n",
      "Y1:\n",
      "\n",
      "[[nan nan 24.  8. 12. 14. nan nan 22. nan nan 10. 14. 24. nan nan]\n",
      " [nan 21. nan nan nan nan nan nan nan 15. 17. nan  8. 15. 23. nan]\n",
      " [nan nan nan nan  9. nan nan nan nan  9.  8. nan  5. nan nan  6.]\n",
      " [nan nan nan 10. nan nan nan nan 23. nan 17. nan nan 26. 24. nan]\n",
      " [nan  9.  9. nan nan nan nan nan nan  9.  8. nan nan  9. 11. nan]\n",
      " [nan 11. 19.  7. nan 13. 10. 11. nan 19. nan  9. 11. 19. nan nan]\n",
      " [45. nan nan nan nan nan 18. nan nan nan nan 19. 17. 30. 32. nan]\n",
      " [nan nan 21. nan 15. 18. nan 15. 18. nan 15. nan 12. 21. nan 12.]\n",
      " [nan 11. nan  7. nan 13. 10. 11. 17. 19. nan  9. nan 19. nan nan]\n",
      " [nan 13. nan  7. nan 16. nan nan  8. 11. 11. nan nan nan 15.  8.]\n",
      " [45. 24. 30. 14. 24. 29. 18. nan 25. nan 23. nan nan nan 32. 18.]\n",
      " [nan 15. nan nan nan nan 12. 15. 18. 21. 15. 12. nan 21. 21. nan]\n",
      " [25. nan 13. nan 17. nan 10. nan nan 13. nan 13.  7. 13. 19. 10.]\n",
      " [nan nan nan 12. nan nan 16. nan nan nan nan nan 16. nan 28. 16.]\n",
      " [nan nan 18. 10. nan 22. 12. nan nan nan 16. nan 10. nan nan nan]\n",
      " [25. 11. 19. nan 11. nan nan nan nan nan nan  9. 11. nan 17. nan]]\n",
      "\n",
      "Y2:\n",
      "\n",
      "[[30. nan 24.  8. 12. 14. 12. nan 22. nan nan 10. 14. 24. 20. nan]\n",
      " [30. 21. nan 11. 21. nan 12. 21. nan 15. 17. nan  8. 15. 23. nan]\n",
      " [nan  9. nan nan  9. nan nan nan  7.  9.  8.  7.  5. nan 11.  6.]\n",
      " [35. nan nan 10. nan nan nan nan 23. nan 17. 13. 15. 26. 24. nan]\n",
      " [nan  9.  9.  5. nan nan nan nan nan  9.  8. nan nan  9. 11. nan]\n",
      " [nan 11. 19.  7. nan 13. 10. 11. 17. 19. 12.  9. 11. 19. 17. nan]\n",
      " [45. 24. 30. nan nan 29. 18. nan 25. 30. nan 19. 17. 30. 32. nan]\n",
      " [nan nan 21. nan 15. 18. 12. 15. 18. 21. 15. 12. 12. 21. 21. 12.]\n",
      " [25. 11. nan  7. 11. 13. 10. 11. 17. 19. 12.  9. nan 19. nan nan]\n",
      " [nan 13. 11.  7. 13. 16.  8. nan  8. 11. 11. nan nan 11. 15.  8.]\n",
      " [45. 24. 30. 14. 24. 29. 18. 24. 25. 30. 23. 19. 17. nan 32. 18.]\n",
      " [nan 15. 21.  9. nan 18. 12. 15. 18. 21. 15. 12. nan 21. 21. 12.]\n",
      " [25. nan 13.  9. 17. nan 10. 17. nan 13. 14. 13.  7. 13. 19. 10.]\n",
      " [40. 20. 28. 12. 20. nan 16. 20. nan nan nan 16. 16. nan 28. 16.]\n",
      " [nan nan 18. 10. 18. 22. 12. nan 14. nan 16. 14. 10. nan 22. 12.]\n",
      " [25. 11. 19.  7. 11. nan 10. nan nan nan nan  9. 11. 19. 17. nan]]\n",
      "\n",
      "Y3:\n",
      "\n",
      "[[30. 12. 24.  8. 12. 14. 12. 12. 22. 24. nan 10. 14. 24. 20. 12.]\n",
      " [30. 21. 15. 11. 21. 26. 12. 21. 10. 15. 17. nan  8. 15. 23. 12.]\n",
      " [nan  9.  9.  5.  9. 11.  6.  9.  7.  9.  8.  7.  5.  9. 11.  6.]\n",
      " [35. 16. nan 10. 16. 19. nan 16. 23. 26. 17. 13. 15. 26. 24. 14.]\n",
      " [15.  9.  9.  5.  9. 11. nan  9.  7.  9.  8. nan nan  9. 11.  6.]\n",
      " [nan 11. 19.  7. 11. 13. 10. 11. 17. 19. 12.  9. 11. 19. 17. 10.]\n",
      " [45. 24. 30. 14. 24. 29. 18. 24. 25. 30. 23. 19. 17. 30. 32. 18.]\n",
      " [30. nan 21.  9. 15. 18. 12. 15. 18. 21. 15. 12. 12. 21. 21. 12.]\n",
      " [25. 11. 19.  7. 11. 13. 10. 11. 17. 19. 12.  9. 11. 19. 17. 10.]\n",
      " [nan 13. 11.  7. 13. 16.  8. 13.  8. 11. 11. 10.  6. 11. 15.  8.]\n",
      " [45. 24. 30. 14. 24. 29. 18. 24. 25. 30. 23. 19. 17. 30. 32. 18.]\n",
      " [30. 15. 21.  9. 15. 18. 12. 15. 18. 21. 15. 12. 12. 21. 21. 12.]\n",
      " [25. 17. 13.  9. 17. 21. 10. 17. nan 13. 14. 13.  7. 13. 19. 10.]\n",
      " [40. 20. 28. 12. 20. nan 16. 20. nan 28. 20. 16. 16. 28. 28. 16.]\n",
      " [30. nan 18. 10. 18. 22. 12. 18. 14. 18. 16. 14. 10. 18. 22. 12.]\n",
      " [25. 11. 19.  7. 11. 13. 10. 11. 17. 19. 12.  9. 11. 19. 17. nan]]\n"
     ]
    }
   ],
   "source": [
    "print(\"\\nY1:\\n\")\n",
    "print(Y1)\n",
    "print(\"\\nY2:\\n\")\n",
    "print(Y2)\n",
    "print(\"\\nY3:\\n\")\n",
    "print(Y3)"
   ]
  },
  {
   "cell_type": "code",
   "execution_count": 5,
   "metadata": {},
   "outputs": [],
   "source": [
    "completedY1 = ItSingValThresh(Y1, 2)\n",
    "completedY2 = ItSingValThresh(Y2, 2)\n",
    "completedY3 = ItSingValThresh(Y3, 2)"
   ]
  },
  {
   "cell_type": "code",
   "execution_count": 6,
   "metadata": {
    "scrolled": true
   },
   "outputs": [
    {
     "data": {
      "text/plain": [
       "array([[30, 12, 24,  8, 12, 14, 12, 12, 22, 24, 14, 10, 14, 24, 20, 12],\n",
       "       [30, 21, 15, 11, 21, 26, 12, 21, 10, 15, 17, 16,  8, 15, 23, 12],\n",
       "       [15,  9,  9,  5,  9, 11,  6,  9,  7,  9,  8,  7,  5,  9, 11,  6],\n",
       "       [35, 16, 26, 10, 16, 19, 14, 16, 23, 26, 17, 13, 15, 26, 24, 14],\n",
       "       [15,  9,  9,  5,  9, 11,  6,  9,  7,  9,  8,  7,  5,  9, 11,  6],\n",
       "       [25, 11, 19,  7, 11, 13, 10, 11, 17, 19, 12,  9, 11, 19, 17, 10],\n",
       "       [45, 24, 30, 14, 24, 29, 18, 24, 25, 30, 23, 19, 17, 30, 32, 18],\n",
       "       [30, 15, 21,  9, 15, 18, 12, 15, 18, 21, 15, 12, 12, 21, 21, 12],\n",
       "       [25, 11, 19,  7, 11, 13, 10, 11, 17, 19, 12,  9, 11, 19, 17, 10],\n",
       "       [20, 13, 11,  7, 13, 16,  8, 13,  8, 11, 11, 10,  6, 11, 15,  8],\n",
       "       [45, 24, 30, 14, 24, 29, 18, 24, 25, 30, 23, 19, 17, 30, 32, 18],\n",
       "       [30, 15, 21,  9, 15, 18, 12, 15, 18, 21, 15, 12, 12, 21, 21, 12],\n",
       "       [25, 17, 13,  9, 17, 21, 10, 17,  9, 13, 14, 13,  7, 13, 19, 10],\n",
       "       [40, 20, 28, 12, 20, 24, 16, 20, 24, 28, 20, 16, 16, 28, 28, 16],\n",
       "       [30, 18, 18, 10, 18, 22, 12, 18, 14, 18, 16, 14, 10, 18, 22, 12],\n",
       "       [25, 11, 19,  7, 11, 13, 10, 11, 17, 19, 12,  9, 11, 19, 17, 10]],\n",
       "      dtype=uint8)"
      ]
     },
     "execution_count": 6,
     "metadata": {},
     "output_type": "execute_result"
    }
   ],
   "source": [
    "Xtrue"
   ]
  },
  {
   "cell_type": "code",
   "execution_count": 7,
   "metadata": {
    "scrolled": false
   },
   "outputs": [
    {
     "name": "stdout",
     "output_type": "stream",
     "text": [
      "Difference between rank 2 ISVT of Y1 and Xtrue matrix: \n",
      "\n",
      "[[-40.7  -1.3   0.    0.    0.    0.   -0.3   9.7   0.    0.5   0.    0.\n",
      "    0.    0.   -0.3   0.1]\n",
      " [ 27.8   0.    2.   -0.6  -0.9  -1.5   0.4 -25.7   2.5   0.    0.   -0.8\n",
      "    0.    0.    0.    0.2]\n",
      " [  2.1  -0.5   0.7  -0.2   0.   -0.7   0.   -6.9   0.8   0.    0.   -0.4\n",
      "    0.    0.1  -0.2   0. ]\n",
      " [-30.3  -1.1   0.4   0.    0.1  -0.3  -0.1   2.7   0.    0.2   0.   -0.3\n",
      "    0.5   0.    0.    0.2]\n",
      " [  3.5   0.    0.   -0.2  -0.2  -0.4   0.1  -7.4   0.6   0.    0.   -0.3\n",
      "    0.3   0.    0.    0.1]\n",
      " [-18.7   0.    0.    0.    0.9   0.    0.    0.   -0.9   0.    0.4   0.\n",
      "    0.    0.    0.2   0.2]\n",
      " [  0.    0.8   0.3   0.2   1.5   1.4   0.  -14.6  -0.2  -1.4   0.8   0.\n",
      "    0.    0.    0.    0.5]\n",
      " [-20.4  -1.6   0.   -0.4   0.    0.   -0.2   0.    0.    0.4   0.   -0.7\n",
      "    0.    0.   -0.5   0. ]\n",
      " [-18.9   0.   -0.3   0.    0.9   0.    0.    0.    0.    0.    0.4   0.\n",
      "   -0.1   0.    0.2   0.2]\n",
      " [ 14.7   0.    0.7   0.   -0.1   0.    0.2 -14.7   0.    0.    0.   -0.2\n",
      "    0.3  -0.3   0.    0. ]\n",
      " [  0.    0.    0.    0.    0.    0.    0.  -15.2   0.   -2.3   0.    0.2\n",
      "   -0.5  -2.    0.    0. ]\n",
      " [-20.    0.    1.1  -0.3  -0.5  -1.    0.    0.    0.    0.    0.    0.\n",
      "    0.8   0.    0.    0.2]\n",
      " [  0.   -3.8   0.   -1.6   0.   -4.9   0.  -13.5   3.3   0.   -1.6   0.\n",
      "    0.    0.    0.    0. ]\n",
      " [  3.1   2.1  -2.1   0.    2.6   3.1   0.  -13.4  -3.   -3.8   0.9   1.4\n",
      "    0.   -3.5   0.    0. ]\n",
      " [  9.7  -0.5   0.    0.   -0.3   0.    0.  -16.    0.6  -1.    0.   -0.4\n",
      "    0.   -0.7  -0.3   0. ]\n",
      " [  0.    0.    0.    0.6   0.    3.2  -0.2  -5.9  -3.7  -3.7   0.8   0.\n",
      "    0.   -3.5   0.   -0.1]]\n",
      "\n",
      "Difference between rank 2 ISVT of Y2 and Xtrue matrix: \n",
      "\n",
      "[[ 0.    -0.001  0.     0.     0.     0.     0.    -0.001  0.     0.001\n",
      "  -0.     0.     0.     0.     0.    -0.   ]\n",
      " [ 0.     0.     0.001  0.     0.    -0.002  0.     0.     0.002  0.\n",
      "   0.    -0.001  0.     0.     0.     0.   ]\n",
      " [-0.     0.    -0.    -0.     0.    -0.    -0.     0.     0.     0.\n",
      "   0.     0.     0.    -0.     0.     0.   ]\n",
      " [ 0.    -0.     0.     0.    -0.     0.     0.    -0.     0.     0.\n",
      "   0.     0.     0.     0.     0.    -0.   ]\n",
      " [-0.     0.     0.     0.    -0.    -0.001 -0.    -0.     0.001  0.\n",
      "   0.    -0.     0.     0.     0.    -0.   ]\n",
      " [ 0.     0.     0.     0.    -0.     0.     0.     0.     0.     0.\n",
      "   0.     0.     0.     0.     0.    -0.   ]\n",
      " [ 0.     0.     0.     0.     0.     0.     0.     0.     0.     0.\n",
      "   0.     0.     0.     0.     0.     0.   ]\n",
      " [-0.    -0.     0.     0.     0.     0.     0.     0.     0.     0.\n",
      "   0.     0.     0.     0.     0.     0.   ]\n",
      " [ 0.     0.    -0.     0.     0.     0.     0.     0.     0.     0.\n",
      "   0.     0.     0.     0.    -0.    -0.   ]\n",
      " [ 0.     0.     0.     0.     0.     0.     0.     0.     0.     0.\n",
      "   0.     0.    -0.     0.     0.     0.   ]\n",
      " [ 0.     0.     0.     0.     0.     0.     0.     0.     0.     0.\n",
      "   0.     0.     0.    -0.     0.     0.   ]\n",
      " [-0.     0.     0.     0.     0.     0.     0.     0.     0.     0.\n",
      "   0.     0.    -0.     0.     0.     0.   ]\n",
      " [ 0.    -0.     0.     0.     0.    -0.002  0.     0.     0.001  0.\n",
      "   0.     0.     0.     0.     0.     0.   ]\n",
      " [ 0.     0.     0.     0.     0.    -0.     0.     0.     0.     0.\n",
      "   0.     0.     0.    -0.     0.     0.   ]\n",
      " [-0.     0.     0.     0.     0.     0.     0.     0.001  0.    -0.001\n",
      "   0.     0.     0.    -0.001  0.     0.   ]\n",
      " [ 0.     0.     0.     0.     0.     0.     0.    -0.    -0.     0.\n",
      "   0.     0.     0.     0.     0.    -0.   ]]\n",
      "\n",
      "Difference between rank 2 ISVT of Y3 and Xtrue matrix: \n",
      "\n",
      "[[ 0.  0.  0.  0.  0.  0.  0.  0.  0.  0.  0.  0.  0.  0.  0.  0.]\n",
      " [ 0.  0.  0.  0.  0.  0.  0.  0.  0.  0.  0. -0.  0.  0.  0.  0.]\n",
      " [-0.  0.  0.  0.  0.  0.  0.  0.  0.  0.  0.  0.  0.  0.  0.  0.]\n",
      " [ 0.  0. -0.  0.  0.  0. -0.  0.  0.  0.  0.  0.  0.  0.  0.  0.]\n",
      " [ 0.  0.  0.  0.  0.  0. -0.  0.  0.  0.  0. -0. -0.  0.  0.  0.]\n",
      " [ 0.  0.  0.  0.  0.  0.  0.  0.  0.  0.  0.  0.  0.  0.  0.  0.]\n",
      " [ 0.  0.  0.  0.  0.  0.  0.  0.  0.  0.  0.  0.  0.  0.  0.  0.]\n",
      " [ 0.  0.  0.  0.  0.  0.  0.  0.  0.  0.  0.  0.  0.  0.  0.  0.]\n",
      " [ 0.  0.  0.  0.  0.  0.  0.  0.  0.  0.  0.  0.  0.  0.  0.  0.]\n",
      " [-0.  0.  0.  0.  0.  0.  0.  0.  0.  0.  0.  0.  0.  0.  0.  0.]\n",
      " [ 0.  0.  0.  0.  0.  0.  0.  0.  0.  0.  0.  0.  0.  0.  0.  0.]\n",
      " [ 0.  0.  0.  0.  0.  0.  0.  0.  0.  0.  0.  0.  0.  0.  0.  0.]\n",
      " [ 0.  0.  0.  0.  0.  0.  0.  0.  0.  0.  0.  0.  0.  0.  0.  0.]\n",
      " [ 0.  0.  0.  0.  0. -0.  0.  0.  0.  0.  0.  0.  0.  0.  0.  0.]\n",
      " [ 0.  0.  0.  0.  0.  0.  0.  0.  0.  0.  0.  0.  0.  0.  0.  0.]\n",
      " [ 0.  0.  0.  0.  0.  0.  0.  0.  0.  0.  0.  0.  0.  0.  0.  0.]]\n"
     ]
    }
   ],
   "source": [
    "print(\"Difference between rank 2 ISVT of Y1 and Xtrue matrix: \\n\")\n",
    "print(np.round((completedY1-Xtrue), decimals=1))\n",
    "print(\"\\nDifference between rank 2 ISVT of Y2 and Xtrue matrix: \\n\")\n",
    "print(np.round((completedY2-Xtrue), decimals=3))\n",
    "print(\"\\nDifference between rank 2 ISVT of Y3 and Xtrue matrix: \\n\")\n",
    "print(np.round((completedY3-Xtrue), decimals=3))"
   ]
  },
  {
   "cell_type": "markdown",
   "metadata": {},
   "source": [
    "We see that the accuracy indeed depends on the number of missing values. In the Y1 case, since there were so many missing values, there was a big difference between the individual elements of completed Y1 and Xtrue. And in Y2 case, this difference was much lower, almost 0, as fewer elements were missing values. In the Y3 case, even fewer elements were missing values and we see that the difference in all the elements between completedY3 and Xtrue is practically negligible."
   ]
  },
  {
   "cell_type": "markdown",
   "metadata": {},
   "source": [
    "# 2b"
   ]
  },
  {
   "cell_type": "code",
   "execution_count": 8,
   "metadata": {},
   "outputs": [],
   "source": [
    "completedY1 = ItSingValThresh(Y1, 3)\n",
    "completedY2 = ItSingValThresh(Y2, 3)\n",
    "completedY3 = ItSingValThresh(Y3, 3)"
   ]
  },
  {
   "cell_type": "code",
   "execution_count": 9,
   "metadata": {
    "scrolled": true
   },
   "outputs": [
    {
     "data": {
      "text/plain": [
       "array([[30, 12, 24,  8, 12, 14, 12, 12, 22, 24, 14, 10, 14, 24, 20, 12],\n",
       "       [30, 21, 15, 11, 21, 26, 12, 21, 10, 15, 17, 16,  8, 15, 23, 12],\n",
       "       [15,  9,  9,  5,  9, 11,  6,  9,  7,  9,  8,  7,  5,  9, 11,  6],\n",
       "       [35, 16, 26, 10, 16, 19, 14, 16, 23, 26, 17, 13, 15, 26, 24, 14],\n",
       "       [15,  9,  9,  5,  9, 11,  6,  9,  7,  9,  8,  7,  5,  9, 11,  6],\n",
       "       [25, 11, 19,  7, 11, 13, 10, 11, 17, 19, 12,  9, 11, 19, 17, 10],\n",
       "       [45, 24, 30, 14, 24, 29, 18, 24, 25, 30, 23, 19, 17, 30, 32, 18],\n",
       "       [30, 15, 21,  9, 15, 18, 12, 15, 18, 21, 15, 12, 12, 21, 21, 12],\n",
       "       [25, 11, 19,  7, 11, 13, 10, 11, 17, 19, 12,  9, 11, 19, 17, 10],\n",
       "       [20, 13, 11,  7, 13, 16,  8, 13,  8, 11, 11, 10,  6, 11, 15,  8],\n",
       "       [45, 24, 30, 14, 24, 29, 18, 24, 25, 30, 23, 19, 17, 30, 32, 18],\n",
       "       [30, 15, 21,  9, 15, 18, 12, 15, 18, 21, 15, 12, 12, 21, 21, 12],\n",
       "       [25, 17, 13,  9, 17, 21, 10, 17,  9, 13, 14, 13,  7, 13, 19, 10],\n",
       "       [40, 20, 28, 12, 20, 24, 16, 20, 24, 28, 20, 16, 16, 28, 28, 16],\n",
       "       [30, 18, 18, 10, 18, 22, 12, 18, 14, 18, 16, 14, 10, 18, 22, 12],\n",
       "       [25, 11, 19,  7, 11, 13, 10, 11, 17, 19, 12,  9, 11, 19, 17, 10]],\n",
       "      dtype=uint8)"
      ]
     },
     "execution_count": 9,
     "metadata": {},
     "output_type": "execute_result"
    }
   ],
   "source": [
    "Xtrue"
   ]
  },
  {
   "cell_type": "code",
   "execution_count": 10,
   "metadata": {
    "scrolled": false
   },
   "outputs": [
    {
     "name": "stdout",
     "output_type": "stream",
     "text": [
      "Difference between rank 3 ISVT of Y1 and Xtrue matrix: \n",
      "\n",
      "[[-50.   -3.    0.    0.    0.    0.   -0.7   9.9   0.    1.    0.5   0.\n",
      "    0.    0.   -0.3   0.5]\n",
      " [ 13.7   0.   -0.1  -0.9  -3.  -10.5   0.6 -23.8   4.8   0.    0.   -1.9\n",
      "    0.    0.    0.    0.2]\n",
      " [ -2.   -3.1   4.   -0.3   0.    4.   -0.1  -7.8   1.1   0.    0.   -0.8\n",
      "    0.   -1.7  -0.5   0. ]\n",
      " [-35.9   1.5  -6.4   0.    0.9  -9.9  -0.3   1.5   0.   -1.6   0.    0.\n",
      "    0.3   0.    0.    0.5]\n",
      " [ -3.    0.    0.   -0.2  -0.7  -3.5   0.2  -6.4   1.6   0.    0.   -0.5\n",
      "    0.8   0.    0.    0.3]\n",
      " [-24.1   0.    0.    0.    1.6   0.    0.    0.   -0.3   0.    1.1   0.\n",
      "    0.    0.    0.9   0.8]\n",
      " [  0.   19.  -35.3  -1.1   1.  -54.4   0.  -17.8  -2.7 -13.2  -2.6   0.\n",
      "    0.    0.    0.   -0.4]\n",
      " [-31.8  -4.    0.   -0.8   0.    0.   -0.7   0.    0.    0.9   0.   -1.4\n",
      "    0.    0.   -1.1   0. ]\n",
      " [-23.9   0.   -0.8   0.    1.6   0.    0.    0.    0.    0.    1.1   0.\n",
      "    0.1   0.    0.9   0.7]\n",
      " [ 12.5   0.    1.8   0.   -0.9   0.    0.3 -16.8   0.    0.    0.   -0.6\n",
      "    0.1  -2.7   0.    0. ]\n",
      " [  0.    0.    0.    0.    0.    0.    0.  -21.1   0.   -4.    0.    0.2\n",
      "   -1.3  -6.6   0.    0. ]\n",
      " [-29.2   0.   -3.6  -0.6  -0.5  -8.8   0.    0.    0.    0.    0.    0.\n",
      "    0.9   0.    0.    0.4]\n",
      " [  0.   -1.1   0.   -1.    0.   -9.6   0.  -15.1   4.4   0.   -0.8   0.\n",
      "    0.    0.    0.    0. ]\n",
      " [ -3.1  10.  -17.5   0.    2.  -23.1   0.  -14.6  -3.   -8.5  -0.3   1.1\n",
      "    0.   -3.5   0.    0. ]\n",
      " [  5.3  -1.6   0.    0.   -1.4   0.    0.  -18.7   0.9  -1.8   0.   -1.1\n",
      "    0.   -4.   -0.7  -0.4]\n",
      " [  0.    0.    0.    0.7   0.    8.8  -0.6 -10.4  -4.5  -4.6   0.8   0.\n",
      "    0.   -7.7   0.   -0.6]]\n",
      "\n",
      "Difference between rank 3 ISVT of Y2 and Xtrue matrix: \n",
      "\n",
      "[[  0.    -0.     0.     0.     0.     0.     0.    -0.     0.     0.\n",
      "    0.     0.     0.     0.     0.    -0.  ]\n",
      " [  0.     0.     0.     0.     0.    -0.     0.     0.     0.     0.\n",
      "    0.    -0.     0.     0.     0.     0.  ]\n",
      " [-10.01   0.    -0.     0.     0.    -0.    -0.     0.     0.     0.\n",
      "    0.     0.     0.    -0.     0.     0.  ]\n",
      " [  0.    -0.     0.     0.    -0.    -0.    -0.    -0.     0.     0.\n",
      "    0.     0.     0.     0.     0.    -0.  ]\n",
      " [ -8.88   0.     0.     0.    -0.    -0.    -0.     0.     0.     0.\n",
      "    0.    -0.     0.     0.     0.    -0.  ]\n",
      " [-14.24   0.     0.     0.    -0.     0.     0.     0.     0.     0.\n",
      "    0.     0.     0.     0.     0.    -0.  ]\n",
      " [  0.     0.     0.     0.     0.     0.     0.     0.     0.     0.\n",
      "    0.     0.     0.     0.     0.     0.  ]\n",
      " [-21.71  -0.     0.    -0.     0.     0.     0.     0.     0.     0.\n",
      "    0.     0.     0.     0.     0.     0.  ]\n",
      " [  0.     0.     0.     0.     0.     0.     0.     0.     0.     0.\n",
      "    0.     0.     0.     0.     0.    -0.  ]\n",
      " [-17.44   0.     0.     0.     0.     0.     0.     0.     0.     0.\n",
      "    0.     0.    -0.     0.     0.     0.  ]\n",
      " [  0.     0.     0.     0.     0.     0.     0.     0.     0.     0.\n",
      "    0.     0.     0.    -0.     0.     0.  ]\n",
      " [-23.32   0.     0.     0.    -0.     0.     0.     0.     0.     0.\n",
      "    0.     0.     0.     0.     0.     0.  ]\n",
      " [  0.    -0.     0.     0.     0.    -0.     0.     0.     0.     0.\n",
      "    0.     0.     0.     0.     0.     0.  ]\n",
      " [  0.     0.     0.     0.     0.    -0.     0.     0.     0.     0.\n",
      "    0.     0.     0.    -0.     0.     0.  ]\n",
      " [-26.41   0.     0.     0.     0.     0.     0.     0.     0.    -0.\n",
      "    0.     0.     0.    -0.     0.     0.  ]\n",
      " [  0.     0.     0.     0.     0.     0.     0.    -0.    -0.     0.\n",
      "    0.     0.     0.     0.     0.    -0.  ]]\n",
      "\n",
      "Difference between rank 3 ISVT of Y3 and Xtrue matrix: \n",
      "\n",
      "[[  0.      0.      0.      0.      0.      0.      0.      0.      0.\n",
      "    0.     -0.      0.      0.      0.      0.      0.   ]\n",
      " [  0.      0.      0.      0.      0.      0.      0.      0.      0.\n",
      "    0.      0.     -0.      0.      0.      0.      0.   ]\n",
      " [ -9.244   0.      0.      0.      0.      0.      0.      0.      0.\n",
      "    0.      0.      0.      0.      0.      0.      0.   ]\n",
      " [  0.      0.      0.      0.      0.      0.      0.      0.      0.\n",
      "    0.      0.      0.      0.      0.      0.      0.   ]\n",
      " [  0.      0.      0.      0.      0.      0.      0.      0.      0.\n",
      "    0.      0.     -0.      0.      0.      0.      0.   ]\n",
      " [-13.52    0.      0.      0.      0.      0.      0.      0.      0.\n",
      "    0.      0.      0.      0.      0.      0.      0.   ]\n",
      " [  0.      0.      0.      0.      0.      0.      0.      0.      0.\n",
      "    0.      0.      0.      0.      0.      0.      0.   ]\n",
      " [  0.     -0.      0.      0.      0.      0.      0.      0.      0.\n",
      "    0.      0.      0.      0.      0.      0.      0.   ]\n",
      " [  0.      0.      0.      0.      0.      0.      0.      0.      0.\n",
      "    0.      0.      0.      0.      0.      0.      0.   ]\n",
      " [-12.797   0.      0.      0.      0.      0.      0.      0.      0.\n",
      "    0.      0.      0.      0.      0.      0.      0.   ]\n",
      " [  0.      0.      0.      0.      0.      0.      0.      0.      0.\n",
      "    0.      0.      0.      0.      0.      0.      0.   ]\n",
      " [  0.      0.      0.      0.      0.      0.      0.      0.      0.\n",
      "    0.      0.      0.      0.      0.      0.      0.   ]\n",
      " [  0.      0.      0.      0.      0.      0.      0.      0.     -0.\n",
      "    0.      0.      0.      0.      0.      0.      0.   ]\n",
      " [  0.      0.      0.      0.      0.      0.      0.      0.     -0.\n",
      "    0.      0.      0.      0.      0.      0.      0.   ]\n",
      " [  0.     -0.      0.      0.      0.      0.      0.      0.      0.\n",
      "    0.      0.      0.      0.      0.      0.      0.   ]\n",
      " [  0.      0.      0.      0.      0.      0.      0.      0.      0.\n",
      "    0.      0.      0.      0.      0.      0.     -0.   ]]\n"
     ]
    }
   ],
   "source": [
    "print(\"Difference between rank 3 ISVT of Y1 and Xtrue matrix: \\n\")\n",
    "print(np.round((completedY1-Xtrue), decimals=1))\n",
    "print(\"\\nDifference between rank 3 ISVT of Y2 and Xtrue matrix: \\n\")\n",
    "print(np.round((completedY2-Xtrue), decimals=2))\n",
    "print(\"\\nDifference between rank 3 ISVT of Y3 and Xtrue matrix: \\n\")\n",
    "print(np.round((completedY3-Xtrue), decimals=3))"
   ]
  },
  {
   "cell_type": "markdown",
   "metadata": {},
   "source": [
    "We see that the rank 2 Xtrue matrix has less error associated with the same Y matrix when we use rank 2 to complete a Y matrix as compared to rank 3. We notice that individual elements have much larger errors associated with rank 3 compared to rank 2 regardless of how many missing values were there in the Y matrix originally. As an example, for rank 2, Y3 can safely be said to be equal to Xtrue on account of negligible difference between the two matrices. But for rank 3, we see that Y3 and Xtrue has several elements where there is a non-zero difference between said elements."
   ]
  },
  {
   "cell_type": "code",
   "execution_count": null,
   "metadata": {},
   "outputs": [],
   "source": []
  }
 ],
 "metadata": {
  "kernelspec": {
   "display_name": "Python 3",
   "language": "python",
   "name": "python3"
  },
  "language_info": {
   "codemirror_mode": {
    "name": "ipython",
    "version": 3
   },
   "file_extension": ".py",
   "mimetype": "text/x-python",
   "name": "python",
   "nbconvert_exporter": "python",
   "pygments_lexer": "ipython3",
   "version": "3.8.3"
  }
 },
 "nbformat": 4,
 "nbformat_minor": 4
}
