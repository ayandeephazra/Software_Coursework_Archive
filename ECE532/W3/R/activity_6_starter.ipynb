{
 "cells": [
  {
   "cell_type": "code",
   "execution_count": 4,
   "metadata": {},
   "outputs": [
    {
     "name": "stdout",
     "output_type": "stream",
     "text": [
      "[[ 4.25]\n",
      " [17.5 ]\n",
      " [ 3.75]]\n"
     ]
    }
   ],
   "source": [
    "import numpy as np\n",
    "A = np.array([[25,0,1],[20,1,2],[40,1,6]])\n",
    "b = np.array([[110],[110],[210]])\n",
    "\n",
    "# To see rank, use: \n",
    "# np.linalg.matrix_rank(A)\n",
    "\n",
    "# To invert a matrix, use:\n",
    "# np.linalg.inv(A)\n",
    "\n",
    "# To multiply matrices in Python 3, use:\n",
    "# A@B\n",
    "\n",
    "if(np.linalg.matrix_rank(A)==3):\n",
    "    x = np.array(np.linalg.inv(A)@b)\n",
    "    print(x)\n",
    "    \n"
   ]
  },
  {
   "cell_type": "code",
   "execution_count": 17,
   "metadata": {},
   "outputs": [
    {
     "name": "stdout",
     "output_type": "stream",
     "text": [
      "4\n",
      "4\n",
      "True\n",
      "[[4.]\n",
      " [4.]\n",
      " [9.]\n",
      " [4.]]\n",
      "True\n",
      "4\n"
     ]
    }
   ],
   "source": [
    "import numpy as np\n",
    "A = np.array([[25,15,10,0,1],[20,12,8,1,2],[40,30,10,1,6], [30,15,15,0,3], [35,20,15,2,4]])\n",
    "b = np.array([[104],[97],[193],[132],[174]])\n",
    "\n",
    "print(np.linalg.matrix_rank(A))\n",
    "print(np.linalg.matrix_rank(np.hstack((A,b))))\n",
    "print(np.linalg.matrix_rank(A)==np.linalg.matrix_rank(np.hstack((A,b))))\n",
    "#if(np.linalg.matrix_rank(A)==4):\n",
    " #   x = np.array(np.linalg.inv(A)@b)\n",
    "  #  print(x)\n",
    "\n",
    "# Note: you can use np.hstack() to concatinate vectors, for example np.hstack((A,b))\n",
    "\n",
    "# Note: you can select all the columns, except the first of a matrix A as:  A[:,1:]\n",
    "print(np.linalg.inv(A[:,1:].T@A[:,1:])@A[:,1:].T@b)\n",
    "print(np.linalg.matrix_rank(A[:,1:])==np.linalg.matrix_rank(np.hstack((A[:,1:],b))))\n",
    "print(np.linalg.matrix_rank(A[:,1:]))"
   ]
  },
  {
   "cell_type": "code",
   "execution_count": 20,
   "metadata": {},
   "outputs": [
    {
     "name": "stdout",
     "output_type": "stream",
     "text": [
      "[[ 1.  -0.5  1. ]\n",
      " [ 0.   1.5  0. ]\n",
      " [ 0.   1.5  0. ]\n",
      " [ 1.  -0.5  1. ]]\n",
      "2\n"
     ]
    }
   ],
   "source": [
    "t1 = np.array([[0.5],[0.5],[0.5],[0.5]])\n",
    "t2 = np.array([[0.5],[-0.5],[-0.5],[0.5]])\n",
    "w1 = np.array([[1],[1],[1]])\n",
    "w2 = np.array([[1],[-2],[1]])\n",
    "\n",
    "A = np.array(t1@w1.T+t2@w2.T)\n",
    "\n",
    "print(A)\n",
    "print(np.linalg.matrix_rank(A))"
   ]
  },
  {
   "cell_type": "code",
   "execution_count": null,
   "metadata": {},
   "outputs": [],
   "source": []
  }
 ],
 "metadata": {
  "kernelspec": {
   "display_name": "Python 3",
   "language": "python",
   "name": "python3"
  },
  "language_info": {
   "codemirror_mode": {
    "name": "ipython",
    "version": 3
   },
   "file_extension": ".py",
   "mimetype": "text/x-python",
   "name": "python",
   "nbconvert_exporter": "python",
   "pygments_lexer": "ipython3",
   "version": "3.8.3"
  }
 },
 "nbformat": 4,
 "nbformat_minor": 2
}
