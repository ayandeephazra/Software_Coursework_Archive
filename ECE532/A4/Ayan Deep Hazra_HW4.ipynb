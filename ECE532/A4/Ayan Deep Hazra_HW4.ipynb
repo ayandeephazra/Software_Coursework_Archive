{
 "cells": [
  {
   "cell_type": "code",
   "execution_count": 1,
   "id": "controversial-briefs",
   "metadata": {},
   "outputs": [],
   "source": [
    "import numpy as np\n",
    "import scipy.io as sp\n",
    "import matplotlib.pyplot as plt\n",
    "\n",
    "in_data = sp.loadmat(\"face_emotion_data.mat\")\n",
    "X = in_data['X']\n",
    "y = in_data['y']\n"
   ]
  },
  {
   "cell_type": "markdown",
   "id": "super-leone",
   "metadata": {},
   "source": [
    "# 1a)"
   ]
  },
  {
   "cell_type": "code",
   "execution_count": 2,
   "id": "compact-occasions",
   "metadata": {},
   "outputs": [
    {
     "name": "stdout",
     "output_type": "stream",
     "text": [
      "[[ 0.94366942]\n",
      " [ 0.21373778]\n",
      " [ 0.26641775]\n",
      " [-0.39221373]\n",
      " [-0.00538552]\n",
      " [-0.01764687]\n",
      " [-0.16632809]\n",
      " [-0.0822838 ]\n",
      " [-0.16644364]]\n"
     ]
    }
   ],
   "source": [
    "w_opt = np.linalg.inv(X.T@X)@X.T@y\n",
    "print(w_opt)"
   ]
  },
  {
   "cell_type": "markdown",
   "id": "recreational-politics",
   "metadata": {},
   "source": [
    "# 1b)"
   ]
  },
  {
   "cell_type": "markdown",
   "id": "mature-thanksgiving",
   "metadata": {},
   "source": [
    "If the weight is positive, then the classifier predicts the face to be Happy and if weight is negative then the classifier predicts the face to be Sad. We use the formula, y = sign(x.T@w)."
   ]
  },
  {
   "cell_type": "code",
   "execution_count": 3,
   "id": "renewable-canyon",
   "metadata": {},
   "outputs": [
    {
     "name": "stdout",
     "output_type": "stream",
     "text": [
      "[0.94366942] -> Happy\n",
      "[0.21373778] -> Happy\n",
      "[0.26641775] -> Happy\n",
      "[-0.39221373] -> Angry\n",
      "[-0.00538552] -> Angry\n",
      "[-0.01764687] -> Angry\n",
      "[-0.16632809] -> Angry\n",
      "[-0.0822838] -> Angry\n",
      "[-0.16644364] -> Angry\n"
     ]
    }
   ],
   "source": [
    "#\n",
    "for i in range(len(w_opt)):\n",
    "    if( w_opt[i,]> 0):\n",
    "        print(w_opt[i,], \"-> Happy\")\n",
    "    else:\n",
    "        print(w_opt[i,], \"-> Angry\")\n",
    "y_hat = np.sign(X@w_opt)\n",
    "err = np.mean(y != y_hat)"
   ]
  },
  {
   "cell_type": "markdown",
   "id": "developed-profit",
   "metadata": {},
   "source": [
    "# 1c)"
   ]
  },
  {
   "cell_type": "markdown",
   "id": "figured-prairie",
   "metadata": {},
   "source": [
    "The features that have the largest absolute values are the most important. Thus the columns which have the most number of largest absolute value rows are the columns we have to select."
   ]
  },
  {
   "cell_type": "markdown",
   "id": "amazing-seafood",
   "metadata": {},
   "source": [
    "# 1d)"
   ]
  },
  {
   "cell_type": "code",
   "execution_count": 4,
   "id": "treated-musical",
   "metadata": {},
   "outputs": [],
   "source": [
    "X_new = np.hstack((X[:,0:1],X[:,2:3],X[:,3:4]))\n",
    "w_opt2 = np.linalg.inv(X_new.T@X_new)@X_new.T@y\n",
    "y_hat2 = np.sign(X_new@w_opt2)\n",
    "errOfThree = np.mean(y_hat2 != y)"
   ]
  },
  {
   "cell_type": "markdown",
   "id": "stock-mexican",
   "metadata": {},
   "source": [
    "We should choose the features that have the largest absolute value of weight in the corresponding row of the weight matrix. By doing this analysis, we find that, we should choose column 1, 3 and 4.\n",
    "\n",
    "Procedure for classifier: We need to make a new array with just the required columns 1, 3 and 4. Let's call it X_new. Then we can find a new solution to the least squares problem (w_opt2). Then we can do the same thing which we did in the previous qs and take sign(X_new@w_opt2) to decide the binary classification."
   ]
  },
  {
   "cell_type": "markdown",
   "id": "structural-polish",
   "metadata": {},
   "source": [
    "# 1e)"
   ]
  },
  {
   "cell_type": "code",
   "execution_count": 7,
   "id": "empty-caution",
   "metadata": {},
   "outputs": [
    {
     "name": "stdout",
     "output_type": "stream",
     "text": [
      "Error when using all nine features:  2.34375 %\n",
      "Error when using just three of the nine features:  6.25 %\n"
     ]
    }
   ],
   "source": [
    "print(\"Error when using all nine features: \", err*100, \"%\")\n",
    "print(\"Error when using just three of the nine features: \", errOfThree*100, \"%\")"
   ]
  },
  {
   "cell_type": "markdown",
   "id": "impressive-socket",
   "metadata": {},
   "source": [
    "# 1f)"
   ]
  },
  {
   "cell_type": "code",
   "execution_count": null,
   "id": "proved-emphasis",
   "metadata": {},
   "outputs": [],
   "source": [
    "for i in range(8):\n",
    "    Temp = np.hstack((X[i*16,i*16+16:,]))\n",
    "    NewX = np.hstack((X[0,i*16:,], X[i*16+16,127:,]))\n",
    "    \n",
    "    w_opt3 = np.linalg.inv(NewX.T@NewX)@NewX.T@y\n",
    "    y_hat3 = np.sign(NewX@w_opt3)\n",
    "    \n",
    "    w_opt4 = np.linalg.inv(Temp.T@Temp)@Temp.T@y\n",
    "    y_hat4 = np.sign(Temp@w_opt4)\n",
    "    \n",
    "    errNew = np.mean(y_hat3 != y_hat4) \n",
    "    "
   ]
  },
  {
   "cell_type": "code",
   "execution_count": null,
   "id": "opponent-carroll",
   "metadata": {},
   "outputs": [],
   "source": []
  }
 ],
 "metadata": {
  "kernelspec": {
   "display_name": "Python 3",
   "language": "python",
   "name": "python3"
  },
  "language_info": {
   "codemirror_mode": {
    "name": "ipython",
    "version": 3
   },
   "file_extension": ".py",
   "mimetype": "text/x-python",
   "name": "python",
   "nbconvert_exporter": "python",
   "pygments_lexer": "ipython3",
   "version": "3.8.3"
  }
 },
 "nbformat": 4,
 "nbformat_minor": 5
}
