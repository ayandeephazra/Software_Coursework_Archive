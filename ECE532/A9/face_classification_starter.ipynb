{
 "cells": [
  {
   "cell_type": "code",
   "execution_count": 1,
   "metadata": {
    "scrolled": false
   },
   "outputs": [
    {
     "name": "stdout",
     "output_type": "stream",
     "text": [
      "[[ 1.   -0.16  0.99 ...  2.01  1.8   2.94]\n",
      " [ 1.    1.51  2.43 ...  0.91  1.84  1.68]\n",
      " [ 1.   -0.08  0.95 ...  2.4   1.66  2.54]\n",
      " ...\n",
      " [ 1.    0.05 -0.11 ...  0.21 -1.17 -0.82]\n",
      " [ 1.    1.39  0.99 ...  1.73  0.92  0.73]\n",
      " [ 1.    1.61  0.36 ...  0.6   0.53 -0.15]]\n",
      "(128, 10)\n",
      "(128, 1)\n"
     ]
    }
   ],
   "source": [
    "import numpy as np\n",
    "import matplotlib.pyplot as plt\n",
    "from scipy.io import loadmat\n",
    "dataset = loadmat('face_emotion_data.mat')\n",
    "\n",
    "X, y = dataset['X'], dataset['y']\n",
    "n, p = np.shape(X)\n",
    "\n",
    "y[y==-1] = 0  # use 0/1 for labels instead of -1/+1\n",
    "X = np.hstack((np.ones((n,1)), X))  # append a column of ones\n",
    "\n",
    "print(X.round(2))\n",
    "print(X.shape)\n",
    "print(y.shape)"
   ]
  },
  {
   "cell_type": "markdown",
   "metadata": {},
   "source": [
    "# 1a)"
   ]
  },
  {
   "cell_type": "code",
   "execution_count": 2,
   "metadata": {},
   "outputs": [],
   "source": [
    "def logsig(_x): \n",
    "    return 1/(1+np.exp(-_x))\n",
    "\n",
    "def train(Xb, yb, L):\n",
    "    n, p = np.shape(Xb)\n",
    "    \n",
    "    V = np.random.randn(M+1, 1)\n",
    "    W = np.random.randn(p, M)\n",
    "    \n",
    "    for epoch in range(L):\n",
    "        ind = np.random.permutation(n)\n",
    "        for i in ind:\n",
    "            H = logsig(np.hstack((np.ones((1,1)), Xb[[i],:]@W)))\n",
    "            Yhat = logsig(H@V)\n",
    "            delta = (Yhat-yb[[i], :])*Yhat*(1-Yhat)\n",
    "            Vnew = V-alpha*H.T@delta\n",
    "            gamma = delta@V[1:,:].T*H[:,1:]*(1-H[:,1:])\n",
    "            Wnew = W - alpha*Xb[[i], :].T@gamma\n",
    "            V = Vnew\n",
    "            W =Wnew\n",
    "            \n",
    "    return W, V\n",
    "\n",
    "def test(Xb, yb, W, V):\n",
    "    H =logsig(np.hstack((np.ones((np.shape(Xb)[0],1)), Xb@W)))\n",
    "    Yhat = logsig(H@V)\n",
    "    # ERROR CALC\n",
    "    error = np.mean(abs(np.round(Yhat[:,0]-yb[:,0])))\n",
    "    return error  \n"
   ]
  },
  {
   "cell_type": "markdown",
   "metadata": {},
   "source": [
    "# 1b)"
   ]
  },
  {
   "cell_type": "code",
   "execution_count": 3,
   "metadata": {
    "scrolled": false
   },
   "outputs": [
    {
     "data": {
      "image/png": "[encoded data removed]",
      "text/plain": [
       "<Figure size 432x288 with 1 Axes>"
      ]
     },
     "metadata": {
      "needs_background": "light"
     },
     "output_type": "display_data"
    },
    {
     "data": {
      "image/png": "[encoded data removed]",
      "text/plain": [
       "<Figure size 432x288 with 1 Axes>"
      ]
     },
     "metadata": {
      "needs_background": "light"
     },
     "output_type": "display_data"
    }
   ],
   "source": [
    "q = np.shape(y)[1]\n",
    "M = 32 # Number of nodes\n",
    "\n",
    "alpha = 0.5\n",
    "L_arr = list(range(1,100))\n",
    "err_arr = []\n",
    "accuracy_arr = []\n",
    "\n",
    "for L in L_arr:\n",
    "    Wcurr, Vcurr = train(X, y, L)\n",
    "    error = test(X, y, Wcurr, Vcurr)\n",
    "    err_arr.append(error)\n",
    "    accuracy_arr.append(1-error)    \n",
    "  \n",
    "plt.figure()\n",
    "plt.plot(L_arr, err_arr)\n",
    "plt.xlabel(\"Epochs\")\n",
    "plt.ylabel(\"Error\")\n",
    "plt.show()\n",
    "\n",
    "plt.figure()\n",
    "plt.plot(L_arr, accuracy_arr)\n",
    "plt.xlabel(\"Epochs\")\n",
    "plt.ylabel(\"Accuracy\")\n",
    "plt.show()"
   ]
  },
  {
   "cell_type": "markdown",
   "metadata": {},
   "source": [
    "Yes after about 20 epochs the error drops to 0. Or accuracy goes to near perfect. This however varies from run to run, but on average is around the 20th mark (based on several runs)."
   ]
  },
  {
   "cell_type": "markdown",
   "metadata": {},
   "source": [
    "# 1c)"
   ]
  },
  {
   "cell_type": "code",
   "execution_count": 4,
   "metadata": {},
   "outputs": [
    {
     "name": "stdout",
     "output_type": "stream",
     "text": [
      " run  0 error rate:  0.0390625  and accuracy rate:  0.9609375\n",
      " run  1 error rate:  0.03125  and accuracy rate:  0.96875\n",
      " run  2 error rate:  0.0390625  and accuracy rate:  0.9609375\n",
      " run  3 error rate:  0.0390625  and accuracy rate:  0.9609375\n",
      " run  4 error rate:  0.03125  and accuracy rate:  0.96875\n",
      " run  5 error rate:  0.03125  and accuracy rate:  0.96875\n",
      " run  6 error rate:  0.0390625  and accuracy rate:  0.9609375\n",
      " run  7 error rate:  0.0390625  and accuracy rate:  0.9609375\n",
      " run  8 error rate:  0.0234375  and accuracy rate:  0.9765625\n",
      " run  9 error rate:  0.046875  and accuracy rate:  0.953125\n",
      " run  10 error rate:  0.03125  and accuracy rate:  0.96875\n",
      " run  11 error rate:  0.0390625  and accuracy rate:  0.9609375\n",
      " run  12 error rate:  0.03125  and accuracy rate:  0.96875\n",
      " run  13 error rate:  0.03125  and accuracy rate:  0.96875\n",
      " run  14 error rate:  0.0234375  and accuracy rate:  0.9765625\n",
      " run  15 error rate:  0.0390625  and accuracy rate:  0.9609375\n",
      " run  16 error rate:  0.0390625  and accuracy rate:  0.9609375\n",
      " run  17 error rate:  0.0390625  and accuracy rate:  0.9609375\n",
      " run  18 error rate:  0.03125  and accuracy rate:  0.96875\n",
      " run  19 error rate:  0.0390625  and accuracy rate:  0.9609375\n",
      " run  20 error rate:  0.03125  and accuracy rate:  0.96875\n",
      " run  21 error rate:  0.046875  and accuracy rate:  0.953125\n",
      " run  22 error rate:  0.0390625  and accuracy rate:  0.9609375\n",
      " run  23 error rate:  0.03125  and accuracy rate:  0.96875\n",
      " run  24 error rate:  0.0234375  and accuracy rate:  0.9765625\n",
      " run  25 error rate:  0.03125  and accuracy rate:  0.96875\n",
      " run  26 error rate:  0.03125  and accuracy rate:  0.96875\n",
      " run  27 error rate:  0.015625  and accuracy rate:  0.984375\n",
      " run  28 error rate:  0.0390625  and accuracy rate:  0.9609375\n",
      " run  29 error rate:  0.03125  and accuracy rate:  0.96875\n",
      " run  30 error rate:  0.0390625  and accuracy rate:  0.9609375\n",
      " run  31 error rate:  0.046875  and accuracy rate:  0.953125\n",
      " run  32 error rate:  0.0390625  and accuracy rate:  0.9609375\n",
      " run  33 error rate:  0.0390625  and accuracy rate:  0.9609375\n",
      " run  34 error rate:  0.0390625  and accuracy rate:  0.9609375\n",
      " run  35 error rate:  0.046875  and accuracy rate:  0.953125\n",
      " run  36 error rate:  0.0390625  and accuracy rate:  0.9609375\n",
      " run  37 error rate:  0.0390625  and accuracy rate:  0.9609375\n",
      " run  38 error rate:  0.0390625  and accuracy rate:  0.9609375\n",
      " run  39 error rate:  0.03125  and accuracy rate:  0.96875\n",
      " run  40 error rate:  0.0390625  and accuracy rate:  0.9609375\n",
      " run  41 error rate:  0.0390625  and accuracy rate:  0.9609375\n",
      " run  42 error rate:  0.0390625  and accuracy rate:  0.9609375\n",
      " run  43 error rate:  0.03125  and accuracy rate:  0.96875\n",
      " run  44 error rate:  0.046875  and accuracy rate:  0.953125\n",
      " run  45 error rate:  0.0390625  and accuracy rate:  0.9609375\n",
      " run  46 error rate:  0.046875  and accuracy rate:  0.953125\n",
      " run  47 error rate:  0.0390625  and accuracy rate:  0.9609375\n",
      " run  48 error rate:  0.046875  and accuracy rate:  0.953125\n",
      " run  49 error rate:  0.046875  and accuracy rate:  0.953125\n",
      " run  50 error rate:  0.03125  and accuracy rate:  0.96875\n",
      " run  51 error rate:  0.03125  and accuracy rate:  0.96875\n",
      " run  52 error rate:  0.0390625  and accuracy rate:  0.9609375\n",
      " run  53 error rate:  0.03125  and accuracy rate:  0.96875\n",
      " run  54 error rate:  0.046875  and accuracy rate:  0.953125\n",
      " run  55 error rate:  0.0390625  and accuracy rate:  0.9609375\n",
      " run  56 error rate:  0.0390625  and accuracy rate:  0.9609375\n",
      " run  57 error rate:  0.0390625  and accuracy rate:  0.9609375\n",
      " run  58 error rate:  0.0390625  and accuracy rate:  0.9609375\n",
      " run  59 error rate:  0.03125  and accuracy rate:  0.96875\n",
      " run  60 error rate:  0.0390625  and accuracy rate:  0.9609375\n",
      " run  61 error rate:  0.046875  and accuracy rate:  0.953125\n",
      " run  62 error rate:  0.0390625  and accuracy rate:  0.9609375\n",
      " run  63 error rate:  0.0390625  and accuracy rate:  0.9609375\n",
      " run  64 error rate:  0.0390625  and accuracy rate:  0.9609375\n",
      " run  65 error rate:  0.0390625  and accuracy rate:  0.9609375\n",
      " run  66 error rate:  0.046875  and accuracy rate:  0.953125\n",
      " run  67 error rate:  0.0390625  and accuracy rate:  0.9609375\n",
      " run  68 error rate:  0.046875  and accuracy rate:  0.953125\n",
      " run  69 error rate:  0.03125  and accuracy rate:  0.96875\n",
      " run  70 error rate:  0.0546875  and accuracy rate:  0.9453125\n",
      " run  71 error rate:  0.0390625  and accuracy rate:  0.9609375\n",
      " run  72 error rate:  0.03125  and accuracy rate:  0.96875\n",
      " run  73 error rate:  0.0390625  and accuracy rate:  0.9609375\n",
      " run  74 error rate:  0.0390625  and accuracy rate:  0.9609375\n",
      " run  75 error rate:  0.03125  and accuracy rate:  0.96875\n",
      " run  76 error rate:  0.0390625  and accuracy rate:  0.9609375\n",
      " run  77 error rate:  0.0390625  and accuracy rate:  0.9609375\n",
      " run  78 error rate:  0.046875  and accuracy rate:  0.953125\n",
      " run  79 error rate:  0.0390625  and accuracy rate:  0.9609375\n",
      " run  80 error rate:  0.0390625  and accuracy rate:  0.9609375\n",
      " run  81 error rate:  0.0390625  and accuracy rate:  0.9609375\n",
      " run  82 error rate:  0.046875  and accuracy rate:  0.953125\n",
      " run  83 error rate:  0.0234375  and accuracy rate:  0.9765625\n",
      " run  84 error rate:  0.0390625  and accuracy rate:  0.9609375\n",
      " run  85 error rate:  0.0390625  and accuracy rate:  0.9609375\n",
      " run  86 error rate:  0.0390625  and accuracy rate:  0.9609375\n",
      " run  87 error rate:  0.0390625  and accuracy rate:  0.9609375\n",
      " run  88 error rate:  0.03125  and accuracy rate:  0.96875\n",
      " run  89 error rate:  0.03125  and accuracy rate:  0.96875\n",
      " run  90 error rate:  0.0390625  and accuracy rate:  0.9609375\n",
      " run  91 error rate:  0.03125  and accuracy rate:  0.96875\n",
      " run  92 error rate:  0.03125  and accuracy rate:  0.96875\n",
      " run  93 error rate:  0.046875  and accuracy rate:  0.953125\n",
      " run  94 error rate:  0.0546875  and accuracy rate:  0.9453125\n",
      " run  95 error rate:  0.0390625  and accuracy rate:  0.9609375\n",
      " run  96 error rate:  0.046875  and accuracy rate:  0.953125\n",
      " run  97 error rate:  0.03125  and accuracy rate:  0.96875\n",
      " run  98 error rate:  0.0234375  and accuracy rate:  0.9765625\n",
      " run  99 error rate:  0.0390625  and accuracy rate:  0.9609375\n"
     ]
    }
   ],
   "source": [
    "L = 100\n",
    "err_total = []\n",
    "\n",
    "for iteration in range(L):\n",
    "    err_somerun = []\n",
    "    for i in range(8):\n",
    "        start = i*16\n",
    "        end = (i+1)*16\n",
    "        \n",
    "        X_train = np.vstack((X[0:start, :], X[end:-1, :]))\n",
    "        y_train = np.vstack((y[0:start, :], y[end:-1, :]))\n",
    "        \n",
    "        X_test = X[start:end, :]\n",
    "        y_test = y[start:end, :]\n",
    "        \n",
    "        V = np.random.randn(M+1, 1)\n",
    "        W = np.random.randn(p, M)\n",
    "        \n",
    "        W, V = train(X_train, y_train, L)\n",
    "        err = test(X_test, y_test, W, V)\n",
    "        \n",
    "        err_somerun.append(err)\n",
    "    print(\" run \", iteration, \"error rate: \", np.mean(err_somerun), \" and accuracy rate: \", 1-np.mean(err_somerun))\n",
    "    err_total.append(err_somerun)"
   ]
  },
  {
   "cell_type": "markdown",
   "metadata": {},
   "source": [
    "No. Even over 100 trials, the error rate was not 0. Thus we infer that the error rate for cross validation does not go to 0. This makes sense intuitively as the hold out set of the data could have features that the test set does not, thus leading to errors."
   ]
  },
  {
   "cell_type": "code",
   "execution_count": 5,
   "metadata": {},
   "outputs": [
    {
     "name": "stdout",
     "output_type": "stream",
     "text": [
      "mean error rate over 100 iterations 0.037578125\n"
     ]
    }
   ],
   "source": [
    "print(\"mean error rate over 100 iterations\", np.mean(err_total))"
   ]
  },
  {
   "cell_type": "markdown",
   "metadata": {},
   "source": [
    "Thus we cannot achieve perfect accuracy. There is always some error. "
   ]
  },
  {
   "cell_type": "code",
   "execution_count": null,
   "metadata": {},
   "outputs": [],
   "source": []
  }
 ],
 "metadata": {
  "kernelspec": {
   "display_name": "Python 3",
   "language": "python",
   "name": "python3"
  },
  "language_info": {
   "codemirror_mode": {
    "name": "ipython",
    "version": 3
   },
   "file_extension": ".py",
   "mimetype": "text/x-python",
   "name": "python",
   "nbconvert_exporter": "python",
   "pygments_lexer": "ipython3",
   "version": "3.8.3"
  }
 },
 "nbformat": 4,
 "nbformat_minor": 2
}
