{
 "cells": [
  {
   "cell_type": "markdown",
   "metadata": {},
   "source": [
    "# 3a)"
   ]
  },
  {
   "cell_type": "code",
   "execution_count": 1,
   "metadata": {},
   "outputs": [],
   "source": [
    "import matplotlib.pyplot as plt\n",
    "import numpy as np\n",
    "import pandas as pd\n",
    "\n",
    "df = pd.read_csv('mendota_secchi_depth.txt', delimiter='\\t')\n",
    "x = df['day_of_year']\n",
    "y = df['secchi_depth']\n",
    "sigma = 10\n",
    "lam = 0.01\n",
    "n = len(x)"
   ]
  },
  {
   "cell_type": "code",
   "execution_count": 2,
   "metadata": {},
   "outputs": [],
   "source": [
    "def KERNEL(X, sigma):\n",
    "    distsq = np.zeros((n, n),dtype = float)\n",
    "    for i in range(0, n):\n",
    "        for j in range(0, n):\n",
    "            d = np.linalg.norm(X[i] - X[j])\n",
    "            distsq[i, j] = d**2\n",
    "    K = np.exp(-distsq/(2*sigma**2))\n",
    "    return K\n",
    "\n",
    "def alpha(kernmat, lam):\n",
    "    alpha = np.linalg.inv(kernmat + lam*np.identity(n))@y\n",
    "    return alpha"
   ]
  },
  {
   "cell_type": "code",
   "execution_count": 3,
   "metadata": {},
   "outputs": [],
   "source": [
    "kernmat = KERNEL(x, sigma)\n",
    "alphamat = alpha(kernmat, lam)\n",
    "Yhat = kernmat@alphamat\n"
   ]
  },
  {
   "cell_type": "code",
   "execution_count": 5,
   "metadata": {},
   "outputs": [
    {
     "data": {
      "text/plain": [
       "Text(0.5, 1.0, 'Data of Kernel fit')"
      ]
     },
     "execution_count": 5,
     "metadata": {},
     "output_type": "execute_result"
    },
    {
     "data": {
      "image/png": "[encoded data removed]",
      "text/plain": [
       "<Figure size 432x288 with 1 Axes>"
      ]
     },
     "metadata": {
      "needs_background": "light"
     },
     "output_type": "display_data"
    }
   ],
   "source": [
    "plt.plot(x, y, 'bo',label= 'Measured Data', alpha = 0.5)\n",
    "plt.plot(x, Yhat, 'ro',label= 'Kernel Fit', alpha = 0.5)\n",
    "plt.xlabel('Day')\n",
    "plt.ylabel('Depth of Lake')\n",
    "plt.title('Data of Kernel fit')"
   ]
  },
  {
   "cell_type": "markdown",
   "metadata": {},
   "source": [
    "The resulting fit approximates the measured data very well in the middle of the dataset (days), in the start it overshoots it by a little and in the end it also tapers off the actual data by quite a lot. The parameters thus underfit the data as some notable features are not taken."
   ]
  },
  {
   "cell_type": "markdown",
   "metadata": {},
   "source": [
    "# 3b)\n",
    "\n",
    "We can use k-fold cross validation to get better values of sigma and lambda. Since we can iterate through sigma values, and find the error at each value of sigma we can use that advantage to compare the errors and find the lowest. The error graph should have a local minima and that is the desired value of sigma for us.\n",
    "\n",
    "We can run a similar experiment for lamda values, finding the minima of the error graph and thus finding the appropriate lamda."
   ]
  },
  {
   "cell_type": "code",
   "execution_count": null,
   "metadata": {},
   "outputs": [],
   "source": []
  }
 ],
 "metadata": {
  "kernelspec": {
   "display_name": "Python 3",
   "language": "python",
   "name": "python3"
  },
  "language_info": {
   "codemirror_mode": {
    "name": "ipython",
    "version": 3
   },
   "file_extension": ".py",
   "mimetype": "text/x-python",
   "name": "python",
   "nbconvert_exporter": "python",
   "pygments_lexer": "ipython3",
   "version": "3.8.3"
  }
 },
 "nbformat": 4,
 "nbformat_minor": 2
}
