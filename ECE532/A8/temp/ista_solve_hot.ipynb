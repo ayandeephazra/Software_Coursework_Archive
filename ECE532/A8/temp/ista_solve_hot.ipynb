{
 "cells": [
  {
   "cell_type": "code",
   "execution_count": 1,
   "metadata": {},
   "outputs": [],
   "source": [
    "def ista_solve_hot( A, d, la_array ):\n",
    "    # ista_solve_hot: Iterative soft-thresholding for multiple values of\n",
    "    # lambda with hot start for each case - the converged value for the previous\n",
    "    # value of lambda is used as an initial condition for the current lambda.\n",
    "    # this function solves the minimization problem\n",
    "    # Minimize |Ax-d|_2^2 + lambda*|x|_1 (Lasso regression)\n",
    "    # using iterative soft-thresholding.\n",
    "    max_iter = 10**4\n",
    "    tol = 10**(-3)\n",
    "    tau = 1/np.linalg.norm(A,2)**2\n",
    "    n = A.shape[1]\n",
    "    w = np.zeros((n,1))\n",
    "    num_lam = len(la_array)\n",
    "    X = np.zeros((n, num_lam))\n",
    "    for i, each_lambda in enumerate(la_array):\n",
    "        for j in range(max_iter):\n",
    "            z = w - tau*(A.T@(A@w-d))\n",
    "            w_old = w\n",
    "            w = np.sign(z) * np.clip(np.abs(z)-tau*each_lambda/2, 0, np.inf)\n",
    "            X[:, i:i+1] = w\n",
    "            if np.linalg.norm(w - w_old) < tol:\n",
    "                break\n",
    "    return X"
   ]
  },
  {
   "cell_type": "markdown",
   "metadata": {},
   "source": [
    "# 1a)"
   ]
  },
  {
   "cell_type": "code",
   "execution_count": null,
   "metadata": {},
   "outputs": [],
   "source": [
    "import numpy as np\n",
    "from scipy.io import loadmat\n",
    "import matplotlib.pyplot as plt \n",
    "import pickle\n",
    "\n",
    "X = loadmat(\"BreastCancer.mat\")['X']\n",
    "y = loadmat(\"BreastCancer.mat\")['y']\n",
    "\n",
    "X_100 = X[:100,:]\n",
    "y_100 = y[:100,:]\n",
    "\n",
    "lam = np.logspace(-8, np.log10(20), 100)\n",
    "\n",
    "w_star = ista_solve_hot(X, y, lam)\n",
    "\n",
    "print((X_100@w_star-y_100).shape)\n",
    "coord1vals = []\n",
    "coord2vals = []\n",
    "for c in range(100):\n",
    "    temp1 = np.linalg.norm(w_star[:,c], ord=1)\n",
    "    coord1vals.append(temp1)\n",
    "    temp2 = (((np.sum((X_100@w_star-y_100)[:,c]))**2))**0.5\n",
    "    coord2vals.append(temp2)\n",
    "\n",
    "plt.plot(coord1vals, coord2vals, 'r')\n",
    "plt.xlabel(\"Norm of w_star\")\n",
    "plt.ylabel(\"Norm of residual\")"
   ]
  },
  {
   "cell_type": "markdown",
   "metadata": {},
   "source": [
    "The lower l1 norm represents a lower lambda value. Small values of lambda increase the squared error. Thus we obtain such a graph where for high norm of w* we have a lower norm of residual."
   ]
  },
  {
   "cell_type": "markdown",
   "metadata": {},
   "source": [
    "# 1b)"
   ]
  },
  {
   "cell_type": "code",
   "execution_count": null,
   "metadata": {},
   "outputs": [],
   "source": [
    "def sparcity(w_arr):\n",
    "    nonzeroCount = 0\n",
    "    for i in w_arr:\n",
    "        if i>10**-6:\n",
    "            nonzeroCount += 1\n",
    "    return nonzeroCount\n",
    "\n",
    "nonzero_values = []\n",
    "err = []\n",
    "\n",
    "for i in range(100):\n",
    "    nonzero_values.append(sparcity(w_star[:,i]))\n",
    "    y_hat2 = np.sign(X_100@w_star[:,i:i+1])\n",
    "    if np.all((y_hat2==0)):\n",
    "        err.append(1)\n",
    "        continue\n",
    "    #err.append(error_rate(np.sign(X_100@w[:,i:i+1], y_train)))\n",
    "    err.append(np.sum(np.abs(y_hat2-y_100))/2/195)\n",
    "    \n",
    "plt.plot(nonzero_values, err, 'r')\n",
    "plt.xlabel(\"Number of Nonzero Coefficents\")\n",
    "plt.ylabel(\"Error Rate\")"
   ]
  },
  {
   "cell_type": "markdown",
   "metadata": {},
   "source": [
    "As the number of nonzero coefficients goes up, we get decreasing error rates. Intuitively, this makes perfect sense, as more and more data points are used in the calculation, and few a wasted as zero coefficients. Thus, the error rate tends to 0 at really high nonzero coefficients or low sparsity. "
   ]
  }
 ],
 "metadata": {
  "kernelspec": {
   "display_name": "Python 3",
   "language": "python",
   "name": "python3"
  },
  "language_info": {
   "codemirror_mode": {
    "name": "ipython",
    "version": 3
   },
   "file_extension": ".py",
   "mimetype": "text/x-python",
   "name": "python",
   "nbconvert_exporter": "python",
   "pygments_lexer": "ipython3",
   "version": "3.8.3"
  }
 },
 "nbformat": 4,
 "nbformat_minor": 2
}
